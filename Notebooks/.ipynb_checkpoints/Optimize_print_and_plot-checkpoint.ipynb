{
 "cells": [
  {
   "cell_type": "markdown",
   "source": [
    "# Optimisation et présentation des résultats\n",
    "\n",
    "Nous allons commencer a travailler avec des données numériques en utilisant la librarie **numpy**, à résoudre des problèmes simples d'optimisation numériques en utilisant la librarie **scipy** et en particulier les fonctions de **scipy.optimize**, et enfin nous présenterons les résutats sous forme \"textuelle\" avec la fonction **print**, et de graphiques avec **matplotlib**.\n",
    "\n",
    "## Références:\n",
    "\n",
    "- print: [exemples](https://www.python-course.eu/python3_formatted_output.php) (détaillés)\n",
    "- numpy: [tutoriel détaillé](https://www.python-course.eu/numpy.php)\n",
    "- matplotlib: [exemples](https://matplotlib.org/stable/tutorials/introductory/sample_plots.html), [documentation](https://matplotlib.org/stable/users/index.html), [styles](https://matplotlib.org/3.1.0/gallery/style_sheets/style_sheets_reference.html)\n",
    "- scipy-optimize: [documentation](https://docs.scipy.org/doc/scipy/reference/optimize.html)"
   ],
   "metadata": {}
  },
  {
   "cell_type": "markdown",
   "source": [
    "# Le problème de choix du consommateur\n",
    "\n",
    "Nous allons considérer un consommateur dont les préférences en matière de consommation sont représentées par une fonction d'utilité,\n",
    "$\n",
    "\\begin{align}\n",
    "u(q_1, q_2): \\R_{+}^2 &\\rightarrow \\R.\n",
    "\\end{align}\n",
    "$\n",
    "$\\def\\R{\\mathbb{R}}$\n",
    "\n",
    "On considère ainsi le cadre de paniers de biens à deux composantes. D'autre part, nous supposons que le consommateur dispose d'un revenu $R$ déterminé de façon exogène par rapport à son choix de consommation. Enfin le vecteur de prix $(p_1, p_2)$ est aussi exogène, le consommateur le considérant comme donné."
   ],
   "metadata": {}
  }
 ],
 "metadata": {
  "orig_nbformat": 4,
  "language_info": {
   "name": "python"
  }
 },
 "nbformat": 4,
 "nbformat_minor": 2
}