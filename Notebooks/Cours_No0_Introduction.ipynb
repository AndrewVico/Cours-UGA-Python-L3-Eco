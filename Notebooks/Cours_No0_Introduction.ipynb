{
 "cells": [
  {
   "cell_type": "markdown",
   "source": [
    "# Introduction"
   ],
   "metadata": {}
  },
  {
   "cell_type": "markdown",
   "source": [
    "Dans cette introduction nous allons donner un très court aperçu des possibilités d'utilisation du langage Python pour l'économiste. Pour cela:\n",
    "- nous allons présenter des exemples de simulation de modèles simples de l'économie,\n",
    "- des exemples du travail empirique pouvant être fait."
   ],
   "metadata": {}
  },
  {
   "cell_type": "markdown",
   "source": [
    "**Résumé:** Un notebook Jupyter est un document composé de **cellules** qui contiennent:\n",
    "- Le code de programmation qui dans notre cas sera du code Python.\n",
    "- Du texte dont du texte mathématiques écrit dans le \"style\" de LaTex. Ces cellules sont des cellules *markdown*.\n",
    "- Des résultats issus de l'execution du code programmé."
   ],
   "metadata": {}
  },
  {
   "cell_type": "markdown",
   "source": [
    "Ainsi, ceci est une cellule avec du texte et plus précisément cellule *markdown*.\n",
    "\n",
    "* Appuyer sur <kbd>Enter</kbd> pour *éditer* la cellule.\n",
    "* Appuyer sur <kbd>Ctrl + Enter</kbd> to *executer* la cellule.\n",
    "* Appyer sur <kbd>Shift + Enter</kbd> to *executer* la cellule et avancer."
   ],
   "metadata": {}
  },
  {
   "cell_type": "markdown",
   "source": [
    "On peut y écrire sous forme de listes:\n",
    "\n",
    "1. **Première** entrée.\n",
    "2. *Deuxième* entrée.\n",
    "3. ~~Troisième~~ item entrée barrée."
   ],
   "metadata": {}
  },
  {
   "cell_type": "markdown",
   "source": [
    "On peut écrire de maths, e.g. $\\alpha^2$ ou"
   ],
   "metadata": {}
  },
  {
   "cell_type": "markdown",
   "source": [
    "$$\n",
    "X = \\int_0^{\\infty} \\frac{x}{x+1} \\mathrm{d}x\n",
    "$$"
   ],
   "metadata": {}
  },
  {
   "cell_type": "code",
   "execution_count": null,
   "source": [
    "# Ceci est une cellule de code\n",
    "x = 10   # Ce qui est écrit après un \"#\" est du \"commentaire\" du code, il n'est donc pas exécuté\n",
    "\n",
    "# Procédons à des calculs\n",
    "a = 20\n",
    "b = 30\n",
    "c = a + b\n",
    "\n",
    "# Affichons les résultats (au-dessous de cette cellule)\n",
    "print(c)"
   ],
   "outputs": [],
   "metadata": {}
  },
  {
   "cell_type": "markdown",
   "source": [
    "On peut comme ici écrire un peu plus de texte(cellule *markdown*) et poursuivre les calculs(cellules de code)."
   ],
   "metadata": {}
  },
  {
   "cell_type": "code",
   "execution_count": null,
   "source": [
    "d = c * 2\n",
    "print(d)\n",
    "print(c)"
   ],
   "outputs": [],
   "metadata": {}
  },
  {
   "cell_type": "markdown",
   "source": [
    "**Remarque:** \n",
    "\n",
    "Bien que JupyterLab/Jupyter s'execute avec un serveur, cela se fait sans besoin de connexion web (le chemin étant quelque chose comme *localhost:8888/lab*).<br>"
   ],
   "metadata": {}
  },
  {
   "cell_type": "markdown",
   "source": [
    "**Binder:** Une exception est d'utiliser [binder](https://mybinder.org), dans ce cas JupyterLab s'executera sur un cloud."
   ],
   "metadata": {}
  },
  {
   "cell_type": "markdown",
   "source": [
    "# Résoudre le problème du consommateur.\n",
    "\n",
    "On considère ici l'exemple classique des manuels de cours de Microéconomie que vous avez vu dans vos études."
   ],
   "metadata": {}
  },
  {
   "cell_type": "markdown",
   "source": [
    "Le problème est le suivant:"
   ],
   "metadata": {}
  },
  {
   "cell_type": "markdown",
   "source": [
    "$$\n",
    "\\begin{align*}\n",
    "V(p_{1},p_{2},I) & = \\max_{q_{1},q_{2}} q_{1}^{\\alpha}q_{2}^{1-\\alpha}\\\\\n",
    " & \\text{s.c.}\\\\\n",
    "p_{1}q_{1}+p_{2}q_{2} & \\leq R, \\quad p_{1}, p_{2}, R > 0, \\quad q_{1},q_{2}  \\geq 0\n",
    "\\end{align*}\n",
    "$$"
   ],
   "metadata": {}
  },
  {
   "cell_type": "markdown",
   "source": [
    "On peut résoudre ce problème **numériquement**."
   ],
   "metadata": {}
  },
  {
   "cell_type": "markdown",
   "source": [
    "1. Choix de **paramètres**:"
   ],
   "metadata": {}
  },
  {
   "cell_type": "code",
   "execution_count": null,
   "source": [
    "alpha = 0.5\n",
    "R = 10\n",
    "p1 = 1\n",
    "p2 = 2"
   ],
   "outputs": [],
   "metadata": {}
  },
  {
   "cell_type": "markdown",
   "source": [
    "2. La **fonction objectif** du consommateur est:"
   ],
   "metadata": {}
  },
  {
   "cell_type": "code",
   "execution_count": null,
   "source": [
    "# On définit la fonction objectif.\n",
    "def val_cons(q1, alpha, R, p1, p2): \n",
    "    \n",
    "    # a. Tout le revenu n'est pas dépensé sur le premier bien\n",
    "    #    Et ce qui est dépensé dans le deuxième est:\n",
    "    q2 = (R - p1*q1) / p2 \n",
    "    \n",
    "    # b. L'utilité obtenue est:\n",
    "    util = q1**alpha*q2**(1-alpha)\n",
    "    \n",
    "    return util # résultat produit par la fonction"
   ],
   "outputs": [],
   "metadata": {}
  },
  {
   "cell_type": "markdown",
   "source": [
    "3. On utilise une fonction du module *scipy* pour **résoudre le problème**."
   ],
   "metadata": {}
  },
  {
   "cell_type": "code",
   "execution_count": null,
   "source": [
    "# a. On importe à partir du module scipy la fonction optimize\n",
    "from scipy import optimize\n",
    "\n",
    "# b. la valeur du choix comme seulement fonction de q1\n",
    "obj = lambda q1: -val_cons(q1, alpha, R, p1, p2)\n",
    "\n",
    "# c. on appelle la fonction minimisatrice\n",
    "solution = optimize.minimize_scalar(obj, bounds=(0, R/p1))\n",
    "\n",
    "# d. affichage des résultats\n",
    "q1 = solution.x\n",
    "q2 = (R - q1*p1) / p2\n",
    "print(q1, q2)"
   ],
   "outputs": [],
   "metadata": {}
  },
  {
   "cell_type": "markdown",
   "source": [
    "**Tâche**: résoudre le même problème avec la fonction d'utilité CES.\n",
    "\n",
    "$$\n",
    "u(q_1,q_2) = (\\alpha q_1^{-\\beta} + (1-\\alpha) x_2^{-\\beta})^{-1/\\beta}\n",
    "$$"
   ],
   "metadata": {}
  },
  {
   "cell_type": "code",
   "execution_count": null,
   "source": [
    "# a. choix des paramètres\n",
    "alpha = 0.5\n",
    "beta = 0.000001\n",
    "R = 10\n",
    "p1 = 1\n",
    "p2 = 2\n",
    "\n",
    "# b. valeur du choix\n",
    "def val_cons_ces(q1, alpha, beta, R, p1, p2):\n",
    "    q2 = (R - p1*q1)/p2\n",
    "    if q1 > 0 and q2 > 0:\n",
    "        util = (alpha*q1**(-beta) + (1 - alpha)*q2**(-beta))**(-1 / beta) \n",
    "    else:\n",
    "        util = 0\n",
    "    return util\n",
    "\n",
    "# c. objectif\n",
    "obj = lambda q1: -val_cons_ces(q1, alpha, beta, R, p1, p2)\n",
    "\n",
    "# d. solution\n",
    "solution = optimize.minimize_scalar(obj, bounds=(0, R/p1))\n",
    "\n",
    "# e. résultat\n",
    "q1 = solution.x\n",
    "q2 = (R - q1 * p1)/p2\n",
    "print(q1, q2)"
   ],
   "outputs": [],
   "metadata": {}
  },
  {
   "cell_type": "markdown",
   "source": [
    "# Simulation du modèle AS-AD\n",
    "\n",
    "**Remarque**: c'est un modèle macroéconomique pour [l'offre et la demande globales dans une économie](https://fr.wikipedia.org/wiki/Mod%C3%A8le_OG-DG)."
   ],
   "metadata": {}
  },
  {
   "cell_type": "markdown",
   "source": [
    "Soit le modèle défini par:\n",
    "\n",
    "$$\n",
    "\\begin{align*}\n",
    "\\hat{y}_{t} &= b\\hat{y}_{t - 1}+\\beta(z_{t} - z_{t-1}) -a\\beta s_{t} + a\\beta\\phi s_{t-1} \\\\\n",
    "\\hat{\\pi}_{t} &= b\\hat{\\pi}_{t - 1}+\\beta\\gamma z_{t} - \\beta\\phi\\gamma z_{t}+\\beta s_{t} - \\beta\\phi s_{t-1} \\\\\n",
    "z_{t} &= \\delta z_{t - 1}+x_{t}, x_{t} \\sim N(0, \\sigma_x^2) \\\\\n",
    "s_{t} &= \\omega s_{t - 1}+c_{t}, c_{t} \\sim N(0, \\sigma_c^2) \\\\\n",
    "b &= \\frac{1 + a\\phi\\gamma}{1 + a\\gamma} \\\\\n",
    "\\beta &= \\frac{1}{1 + a\\gamma}\n",
    "\\end{align*}\n",
    "$$\n",
    "\n",
    "où $\\hat{y}_{t}$ est l'écart de production, $\\hat{\\pi}_{t}$ est l'écart d'inflation, $z_{t}$ est un choc de demande AR(1), et $\\hat{s}_{t}$ est un chox d'offre AR(1)."
   ],
   "metadata": {}
  },
  {
   "cell_type": "markdown",
   "source": [
    "1. Choix de **paramètres**:"
   ],
   "metadata": {}
  },
  {
   "cell_type": "code",
   "execution_count": null,
   "source": [
    "a = 0.4\n",
    "gamma = 0.1\n",
    "phi = 0.9\n",
    "delta = 0.8\n",
    "omega = 0.15\n",
    "sigma_x = 1\n",
    "sigma_c = 0.4\n",
    "T = 100"
   ],
   "outputs": [],
   "metadata": {}
  },
  {
   "cell_type": "markdown",
   "source": [
    "2. Calcul des **paramètres composites**:"
   ],
   "metadata": {}
  },
  {
   "cell_type": "code",
   "execution_count": null,
   "source": [
    "b = (1 + a*phi*gamma)/(1 + a*gamma)\n",
    "beta = 1/(1 + a*gamma) "
   ],
   "outputs": [],
   "metadata": {}
  },
  {
   "cell_type": "markdown",
   "source": [
    "3. Définition des **fonctions du modèle**:"
   ],
   "metadata": {}
  },
  {
   "cell_type": "code",
   "execution_count": null,
   "source": [
    "y_hat_func = lambda y_hat_lag, z,z_lag, s, s_lag: b*y_hat_lag + beta*(z-z_lag) - a*beta*s + a*beta*phi*s_lag\n",
    "pi_hat_func = lambda pi_lag,z,z_lag,s,s_lag: b*pi_lag + beta*gamma*z - beta*phi*gamma*z_lag + beta*s - beta*phi*s_lag\n",
    "z_func = lambda z_lag,x: delta*z_lag + x\n",
    "s_func = lambda s_lag,c: omega*s_lag + c"
   ],
   "outputs": [],
   "metadata": {}
  },
  {
   "cell_type": "markdown",
   "source": [
    "4. On execute la **simulation**:"
   ],
   "metadata": {}
  },
  {
   "cell_type": "code",
   "execution_count": null,
   "source": [
    "import numpy as np # importation du module numpy\n",
    "\n",
    "# a. mise en place du générateur de nombre aléatoires\n",
    "np.random.seed(2015)   \n",
    "\n",
    "# b. affectation des données simulées\n",
    "x = np.random.normal(loc=0, scale=sigma_x, size=T)\n",
    "c = np.random.normal(loc=0, scale=sigma_c, size=T)\n",
    "z = np.zeros(T)\n",
    "s = np.zeros(T)\n",
    "y_hat = np.zeros(T)\n",
    "pi_hat = np.zeros(T)\n",
    "\n",
    "# c. execution de la simulation\n",
    "for t in range(1,T):\n",
    "\n",
    "    # i. actualisation de z et s\n",
    "    z[t] = z_func(z[t-1], x[t])\n",
    "    s[t] = s_func(s[t-1], c[t])\n",
    "\n",
    "    # ii. calcul de y og pi \n",
    "    y_hat[t] = y_hat_func(y_hat[t-1], z[t], z[t-1], s[t], s[t-1])\n",
    "    pi_hat[t] = pi_hat_func(pi_hat[t-1], z[t], z[t-1], s[t], s[t-1])"
   ],
   "outputs": [],
   "metadata": {}
  },
  {
   "cell_type": "markdown",
   "source": [
    "5. **Visualisation** de la simulation:"
   ],
   "metadata": {}
  },
  {
   "cell_type": "code",
   "execution_count": null,
   "source": [
    "import matplotlib.pyplot as plt\n",
    "%matplotlib inline\n",
    "\n",
    "fig = plt.figure()\n",
    "ax = fig.add_subplot(1,1,1)\n",
    "\n",
    "ax.plot(y_hat, label='$\\\\hat{y}$')\n",
    "ax.plot(pi_hat, label='$\\\\hat{\\pi}$')\n",
    "\n",
    "ax.set_xlabel('temps')\n",
    "\n",
    "ax.set_ylabel('pourcentage')\n",
    "ax.set_ylim([-8,8])\n",
    "\n",
    "ax.legend(loc='upper left');"
   ],
   "outputs": [],
   "metadata": {}
  },
  {
   "cell_type": "markdown",
   "source": [
    "On peut aussi utiliser **le style seaborn**:"
   ],
   "metadata": {}
  },
  {
   "cell_type": "code",
   "execution_count": null,
   "source": [
    "plt.style.use('seaborn-whitegrid')\n",
    "\n",
    "fig = plt.figure()\n",
    "ax = fig.add_subplot(1,1,1)\n",
    "\n",
    "ax.plot(y_hat,label='$\\\\hat{y}$')\n",
    "ax.plot(pi_hat,label='$\\\\hat{pi}$')\n",
    "\n",
    "ax.set_xlabel('temps')\n",
    "\n",
    "ax.set_ylabel('poucentage')\n",
    "ax.set_ylim([-8,8])\n",
    "\n",
    "ax.legend(loc='upper left',facecolor='white',frameon='True');"
   ],
   "outputs": [],
   "metadata": {}
  },
  {
   "cell_type": "markdown",
   "source": [
    "# Modules"
   ],
   "metadata": {}
  },
  {
   "cell_type": "markdown",
   "source": [
    "Un **module** est un fichier **.py**-file avec des fonctions qu'on importe et auxquelle on peut alors faire appel dans le noebook.\n",
    "\n",
    "Try to open **mymodule.py** and have a look."
   ],
   "metadata": {}
  },
  {
   "cell_type": "code",
   "execution_count": 20,
   "source": [
    "import monmodule"
   ],
   "outputs": [],
   "metadata": {}
  },
  {
   "cell_type": "code",
   "execution_count": 21,
   "source": [
    "x = 5\n",
    "y = monmodule.mafonction(x)\n",
    "print(y)"
   ],
   "outputs": [
    {
     "output_type": "stream",
     "name": "stdout",
     "text": [
      "25\n"
     ]
    }
   ],
   "metadata": {}
  },
  {
   "cell_type": "markdown",
   "source": [
    "# Analyse de données"
   ],
   "metadata": {}
  },
  {
   "cell_type": "markdown",
   "source": [
    "## Données sur COVID 19 au Pérou\n",
    "\n",
    "Les données proviennent de la source la [Plateforme National de Données Ouvertes](https://www.datosabiertos.gob.pe/) du Pérou. Plus de détail peuvent être obtenus [ici](https://www.datosabiertos.gob.pe/dataset/hospitalizados-vacunados-y-fallecidos-por-covid-19)."
   ],
   "metadata": {}
  },
  {
   "cell_type": "code",
   "execution_count": 27,
   "source": [
    "import pandas as pd # On importe la bibliothèque pandas\n",
    "df = pd.read_csv('/Users/michalurdanivia/Documents/Temp_Paris_11072021_etc/TB_HOSP_VAC_FALLECIDOS.csv')\n",
    "df.info() "
   ],
   "outputs": [
    {
     "output_type": "stream",
     "name": "stdout",
     "text": [
      "<class 'pandas.core.frame.DataFrame'>\n",
      "RangeIndex: 117126 entries, 0 to 117125\n",
      "Data columns (total 28 columns):\n",
      " #   Column                        Non-Null Count   Dtype  \n",
      "---  ------                        --------------   -----  \n",
      " 0   eess_renaes                   117126 non-null  int64  \n",
      " 1   eess_diresa                   117126 non-null  object \n",
      " 2   eess_red                      117126 non-null  object \n",
      " 3   eess_nombre                   117126 non-null  object \n",
      " 4   id_eess                       117126 non-null  int64  \n",
      " 5   id_persona                    117126 non-null  int64  \n",
      " 6   edad                          111482 non-null  float64\n",
      " 7   sexo                          112541 non-null  object \n",
      " 8   fecha_ingreso_hosp            117126 non-null  object \n",
      " 9   flag_uci                      117126 non-null  int64  \n",
      " 10  fecha_ingreso_uci             10585 non-null   object \n",
      " 11  fecha_ingreso_ucin            5659 non-null    object \n",
      " 12  con_oxigeno                   117121 non-null  float64\n",
      " 13  con_ventilacion               117112 non-null  float64\n",
      " 14  fecha_segumiento_hosp_ultimo  117125 non-null  object \n",
      " 15  evolucion_hosp_ultimo         115239 non-null  object \n",
      " 16  flag_vacuna                   117126 non-null  int64  \n",
      " 17  fecha_dosis1                  51948 non-null   object \n",
      " 18  fabricante_dosis1             51948 non-null   object \n",
      " 19  fecha_dosis2                  37309 non-null   object \n",
      " 20  fabricante_dosis2             37307 non-null   object \n",
      " 21  cdc_positividad               117126 non-null  int64  \n",
      " 22  cdc_fecha_fallecido_covid     34878 non-null   object \n",
      " 23  cdc_fallecido_covid           117126 non-null  int64  \n",
      " 24  ubigeo_inei_domicilio         89031 non-null   float64\n",
      " 25  dep_domicilio                 89031 non-null   object \n",
      " 26  prov_domicilio                89031 non-null   object \n",
      " 27  dist_domicilio                89031 non-null   object \n",
      "dtypes: float64(4), int64(7), object(17)\n",
      "memory usage: 25.0+ MB\n"
     ]
    }
   ],
   "metadata": {}
  },
  {
   "cell_type": "code",
   "execution_count": 28,
   "source": [
    "# Description basique des données(seulement des moyennes, écart-types, et quantiles)\n",
    "df.describe()"
   ],
   "outputs": [
    {
     "output_type": "execute_result",
     "data": {
      "text/html": [
       "<div>\n",
       "<style scoped>\n",
       "    .dataframe tbody tr th:only-of-type {\n",
       "        vertical-align: middle;\n",
       "    }\n",
       "\n",
       "    .dataframe tbody tr th {\n",
       "        vertical-align: top;\n",
       "    }\n",
       "\n",
       "    .dataframe thead th {\n",
       "        text-align: right;\n",
       "    }\n",
       "</style>\n",
       "<table border=\"1\" class=\"dataframe\">\n",
       "  <thead>\n",
       "    <tr style=\"text-align: right;\">\n",
       "      <th></th>\n",
       "      <th>eess_renaes</th>\n",
       "      <th>id_eess</th>\n",
       "      <th>id_persona</th>\n",
       "      <th>edad</th>\n",
       "      <th>flag_uci</th>\n",
       "      <th>con_oxigeno</th>\n",
       "      <th>con_ventilacion</th>\n",
       "      <th>flag_vacuna</th>\n",
       "      <th>cdc_positividad</th>\n",
       "      <th>cdc_fallecido_covid</th>\n",
       "      <th>ubigeo_inei_domicilio</th>\n",
       "    </tr>\n",
       "  </thead>\n",
       "  <tbody>\n",
       "    <tr>\n",
       "      <th>count</th>\n",
       "      <td>117126.000000</td>\n",
       "      <td>117126.000000</td>\n",
       "      <td>1.171260e+05</td>\n",
       "      <td>111482.000000</td>\n",
       "      <td>117126.000000</td>\n",
       "      <td>117121.000000</td>\n",
       "      <td>117112.000000</td>\n",
       "      <td>117126.000000</td>\n",
       "      <td>117126.000000</td>\n",
       "      <td>117126.000000</td>\n",
       "      <td>89031.000000</td>\n",
       "    </tr>\n",
       "    <tr>\n",
       "      <th>mean</th>\n",
       "      <td>5906.226628</td>\n",
       "      <td>5767.677151</td>\n",
       "      <td>1.948864e+07</td>\n",
       "      <td>51.941614</td>\n",
       "      <td>0.125677</td>\n",
       "      <td>0.728674</td>\n",
       "      <td>0.092561</td>\n",
       "      <td>0.762060</td>\n",
       "      <td>0.557801</td>\n",
       "      <td>0.297782</td>\n",
       "      <td>123805.079377</td>\n",
       "    </tr>\n",
       "    <tr>\n",
       "      <th>std</th>\n",
       "      <td>5412.769415</td>\n",
       "      <td>5055.547865</td>\n",
       "      <td>1.280993e+07</td>\n",
       "      <td>19.755807</td>\n",
       "      <td>0.331486</td>\n",
       "      <td>0.444646</td>\n",
       "      <td>0.289817</td>\n",
       "      <td>0.904658</td>\n",
       "      <td>0.496650</td>\n",
       "      <td>0.457285</td>\n",
       "      <td>61426.453840</td>\n",
       "    </tr>\n",
       "    <tr>\n",
       "      <th>min</th>\n",
       "      <td>3.000000</td>\n",
       "      <td>3.000000</td>\n",
       "      <td>1.100000e+01</td>\n",
       "      <td>-1.000000</td>\n",
       "      <td>0.000000</td>\n",
       "      <td>0.000000</td>\n",
       "      <td>0.000000</td>\n",
       "      <td>0.000000</td>\n",
       "      <td>0.000000</td>\n",
       "      <td>0.000000</td>\n",
       "      <td>10101.000000</td>\n",
       "    </tr>\n",
       "    <tr>\n",
       "      <th>25%</th>\n",
       "      <td>2289.000000</td>\n",
       "      <td>2288.000000</td>\n",
       "      <td>7.526137e+06</td>\n",
       "      <td>37.000000</td>\n",
       "      <td>0.000000</td>\n",
       "      <td>0.000000</td>\n",
       "      <td>0.000000</td>\n",
       "      <td>0.000000</td>\n",
       "      <td>0.000000</td>\n",
       "      <td>0.000000</td>\n",
       "      <td>80104.000000</td>\n",
       "    </tr>\n",
       "    <tr>\n",
       "      <th>50%</th>\n",
       "      <td>5577.000000</td>\n",
       "      <td>5574.000000</td>\n",
       "      <td>1.803483e+07</td>\n",
       "      <td>53.000000</td>\n",
       "      <td>0.000000</td>\n",
       "      <td>1.000000</td>\n",
       "      <td>0.000000</td>\n",
       "      <td>0.000000</td>\n",
       "      <td>1.000000</td>\n",
       "      <td>0.000000</td>\n",
       "      <td>150102.000000</td>\n",
       "    </tr>\n",
       "    <tr>\n",
       "      <th>75%</th>\n",
       "      <td>6218.000000</td>\n",
       "      <td>6215.000000</td>\n",
       "      <td>3.531059e+07</td>\n",
       "      <td>67.000000</td>\n",
       "      <td>0.000000</td>\n",
       "      <td>1.000000</td>\n",
       "      <td>0.000000</td>\n",
       "      <td>2.000000</td>\n",
       "      <td>1.000000</td>\n",
       "      <td>1.000000</td>\n",
       "      <td>150142.000000</td>\n",
       "    </tr>\n",
       "    <tr>\n",
       "      <th>max</th>\n",
       "      <td>28025.000000</td>\n",
       "      <td>26260.000000</td>\n",
       "      <td>3.784083e+07</td>\n",
       "      <td>110.000000</td>\n",
       "      <td>1.000000</td>\n",
       "      <td>1.000000</td>\n",
       "      <td>1.000000</td>\n",
       "      <td>2.000000</td>\n",
       "      <td>1.000000</td>\n",
       "      <td>1.000000</td>\n",
       "      <td>250401.000000</td>\n",
       "    </tr>\n",
       "  </tbody>\n",
       "</table>\n",
       "</div>"
      ],
      "text/plain": [
       "         eess_renaes        id_eess    id_persona           edad  \\\n",
       "count  117126.000000  117126.000000  1.171260e+05  111482.000000   \n",
       "mean     5906.226628    5767.677151  1.948864e+07      51.941614   \n",
       "std      5412.769415    5055.547865  1.280993e+07      19.755807   \n",
       "min         3.000000       3.000000  1.100000e+01      -1.000000   \n",
       "25%      2289.000000    2288.000000  7.526137e+06      37.000000   \n",
       "50%      5577.000000    5574.000000  1.803483e+07      53.000000   \n",
       "75%      6218.000000    6215.000000  3.531059e+07      67.000000   \n",
       "max     28025.000000   26260.000000  3.784083e+07     110.000000   \n",
       "\n",
       "            flag_uci    con_oxigeno  con_ventilacion    flag_vacuna  \\\n",
       "count  117126.000000  117121.000000    117112.000000  117126.000000   \n",
       "mean        0.125677       0.728674         0.092561       0.762060   \n",
       "std         0.331486       0.444646         0.289817       0.904658   \n",
       "min         0.000000       0.000000         0.000000       0.000000   \n",
       "25%         0.000000       0.000000         0.000000       0.000000   \n",
       "50%         0.000000       1.000000         0.000000       0.000000   \n",
       "75%         0.000000       1.000000         0.000000       2.000000   \n",
       "max         1.000000       1.000000         1.000000       2.000000   \n",
       "\n",
       "       cdc_positividad  cdc_fallecido_covid  ubigeo_inei_domicilio  \n",
       "count    117126.000000        117126.000000           89031.000000  \n",
       "mean          0.557801             0.297782          123805.079377  \n",
       "std           0.496650             0.457285           61426.453840  \n",
       "min           0.000000             0.000000           10101.000000  \n",
       "25%           0.000000             0.000000           80104.000000  \n",
       "50%           1.000000             0.000000          150102.000000  \n",
       "75%           1.000000             1.000000          150142.000000  \n",
       "max           1.000000             1.000000          250401.000000  "
      ]
     },
     "metadata": {},
     "execution_count": 28
    }
   ],
   "metadata": {}
  }
 ],
 "metadata": {
  "kernelspec": {
   "name": "python3",
   "display_name": "Python 3.8.8 64-bit ('base': conda)"
  },
  "language_info": {
   "codemirror_mode": {
    "name": "ipython",
    "version": 3
   },
   "file_extension": ".py",
   "mimetype": "text/x-python",
   "name": "python",
   "nbconvert_exporter": "python",
   "pygments_lexer": "ipython3",
   "version": "3.8.8"
  },
  "toc-autonumbering": true,
  "interpreter": {
   "hash": "6c5e886fea06f7140bdfeaacc5132f10f8431bb82bdf3f614d06b7f9c313022e"
  }
 },
 "nbformat": 4,
 "nbformat_minor": 4
}