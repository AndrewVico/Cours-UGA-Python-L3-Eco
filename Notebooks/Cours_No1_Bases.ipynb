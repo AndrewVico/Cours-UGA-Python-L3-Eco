{
 "cells": [
  {
   "cell_type": "markdown",
   "source": [
    "# Les bases"
   ],
   "metadata": {}
  },
  {
   "cell_type": "markdown",
   "source": [
    "Nous allons introduire un certain nombre d'éléments fondamentaux de Python(objets, variable, opérateurs, classes, méthodes, fonctions, instructions conditionnelles, boucles). Nous apprendrons alors:\n",
    "- A différencier les différents **types** d'objets Python tels que les entiers(type **int**), les décimaux(type **float**), les chaînes de caractère(type **str**), les listes(type **list**), les vecteurs(type **tuple**), les dictionnaires(type **dict**).\n",
    "- A différencier entre les objets immuables(**immutable**), et muables (**mutable**) sur lesquels le **slicing** est possible ce qui nous permettra d'indiquer l'emploi de références multiples.\n",
    "- Dans la définition d'une fonction, à distinguer variables locales et variables globales"
   ],
   "metadata": {}
  },
  {
   "cell_type": "markdown",
   "source": [
    "**Objectif/acquis:** \n",
    "\n",
    "Le contenu de ce notebook et premier cours est assez abstrait relativement à la suite du cours. Le principal acquis escompté est de commencer l'apprentissage d'un vocabulaire/langage avec lequel programmer et poursuivre la suite du cours lequel sera détaillé et approfondi par la suite.\n",
    "\n",
    "**Conseil d'apprentissage**\n",
    "\n",
    "N'essayez pas de mémoriser seulement sur la base de la lecture du notebook. Il vaut mieux que vous copiez et executiez le code en vous efforçant de comprendre celui-ci, que vous jouiez avec lui en le modifiant, en considérant d'autres exemples et manières de faire. Ceci vaut pour le reste du cours.\n"
   ],
   "metadata": {}
  },
  {
   "cell_type": "markdown",
   "source": [
    "**Références:**\n",
    "\n",
    "* **Tutoriel:** Un cours plus détaillé est ici [here](https://www.python-course.eu/python3_course.php).\n",
    "* **Markdown:** Toutes le cellules qui contiennent du texte utilisent le *Markdown*. Un guide peut être consulté ici [here](https://www.markdownguide.org/basic-syntax/)."
   ],
   "metadata": {}
  },
  {
   "cell_type": "markdown",
   "source": [
    "# Eléments fondamentaux\n",
    "\n",
    "Toutes les variables dans Python font **référence** à un **objet** d'un **type** prédéfini.\n"
   ],
   "metadata": {}
  },
  {
   "cell_type": "code",
   "execution_count": 8,
   "source": [
    "# -*- coding: utf-8 -*-"
   ],
   "outputs": [],
   "metadata": {}
  },
  {
   "cell_type": "markdown",
   "source": [
    "## Types atomiques.\n",
    "\n",
    "Le types atomiques car il ne peut pas être modifié mais seulement remplacé.\n"
   ],
   "metadata": {}
  },
  {
   "cell_type": "markdown",
   "source": [
    "**Entiers (int):** -3, -2, -1, 0, 1, 2, 3, etc."
   ],
   "metadata": {}
  },
  {
   "cell_type": "code",
   "execution_count": 1,
   "source": [
    "x = 1 # La variable x sert de référence pour un objet de type int avec la valeur 1.\n",
    "\n",
    "print(type(x)) # affichage du type de x.\n",
    "print(x) # affichage de la valeur de x."
   ],
   "outputs": [
    {
     "output_type": "stream",
     "name": "stdout",
     "text": [
      "<class 'int'>\n",
      "1\n"
     ]
    }
   ],
   "metadata": {}
  },
  {
   "cell_type": "markdown",
   "source": [
    "**Décimaux(float)**: 3.14, 2.72, 1.0, etc."
   ],
   "metadata": {}
  },
  {
   "cell_type": "code",
   "execution_count": 2,
   "source": [
    "x = 1.0 # La variable x sert de référence pour un objet de type float avec la valeur 1 donné ici sous forme décimale.\n",
    "\n",
    "print(type(x))\n",
    "print(x)"
   ],
   "outputs": [
    {
     "output_type": "stream",
     "name": "stdout",
     "text": [
      "<class 'float'>\n",
      "1.0\n"
     ]
    }
   ],
   "metadata": {}
  },
  {
   "cell_type": "markdown",
   "source": [
    "**Chaînes de caratères(str)**: \"abc\", \"123\", \"executez cette cellule\", etc."
   ],
   "metadata": {}
  },
  {
   "cell_type": "code",
   "execution_count": 4,
   "source": [
    "x = 'abc' # La variable x sert de référence pour un objet de type str avec la \"valeur\" abc.\n",
    "\n",
    "print(type(x))\n",
    "print(x)"
   ],
   "outputs": [
    {
     "output_type": "stream",
     "name": "stdout",
     "text": [
      "<class 'str'>\n",
      "abc\n"
     ]
    }
   ],
   "metadata": {}
  },
  {
   "cell_type": "markdown",
   "source": [
    "**Remarque:** il est aussi possible d'employer des guillemets doubles, par exemple \"abc\"."
   ],
   "metadata": {}
  },
  {
   "cell_type": "code",
   "execution_count": 5,
   "source": [
    "x = 'abc' # La variable x sert de référence pour un objet de type str avec la \"valeur\" abc.\n",
    "\n",
    "print(type(x))\n",
    "print(x)"
   ],
   "outputs": [
    {
     "output_type": "stream",
     "name": "stdout",
     "text": [
      "<class 'str'>\n",
      "abc\n"
     ]
    }
   ],
   "metadata": {}
  },
  {
   "cell_type": "markdown",
   "source": [
    "**Booléens**: Vrai/Faux"
   ],
   "metadata": {}
  },
  {
   "cell_type": "code",
   "execution_count": 3,
   "source": [
    "x = True # La variable x sert de référence pour un objet booléen de valeurs vrai ou faux.\n",
    "print(type(x))\n",
    "print(x)"
   ],
   "outputs": [
    {
     "output_type": "stream",
     "name": "stdout",
     "text": [
      "<class 'bool'>\n",
      "True\n"
     ]
    }
   ],
   "metadata": {}
  },
  {
   "cell_type": "markdown",
   "source": [
    "**Types atomiques:**\n",
    "\n",
    "1. Entiers, *int*\n",
    "2. Nombre à virgule flottante, *float*\n",
    "3. Chaînes de caractère, *str*\n",
    "4. Booléens, *bool*"
   ],
   "metadata": {}
  },
  {
   "cell_type": "markdown",
   "source": [
    "## Conversion des types\n",
    "\n",
    "Dans certains cas les objets d'un type donné peuvent être convertis en un autre type. Par exemple le type *float* en un type *str*:\n"
   ],
   "metadata": {}
  },
  {
   "cell_type": "code",
   "execution_count": 5,
   "source": [
    "x = 1.2 # La variable x est une référence pour un objet de type float de valeur 1.2.\n",
    "\n",
    "y = str(x) # La variable y est une référence pour un objet de type *str* dont la valeur a été créé à partir de $x$.\n",
    "\n",
    "print(y,type(y))"
   ],
   "outputs": [
    {
     "output_type": "stream",
     "name": "stdout",
     "text": [
      "1.2 <class 'str'>\n"
     ]
    }
   ],
   "metadata": {}
  },
  {
   "cell_type": "markdown",
   "source": [
    "Et aussi à partir dub type float au type int:"
   ],
   "metadata": {}
  },
  {
   "cell_type": "code",
   "execution_count": 6,
   "source": [
    "x = 2.9 # x est une variable de référence pour un objet de type *float*.\n",
    "y = int(x) # La variable y est une référence pour un objet de type *int* dont la valeur a été créé à partir de $x$.\n",
    "\n",
    "print(y,type(y))"
   ],
   "outputs": [
    {
     "output_type": "stream",
     "name": "stdout",
     "text": [
      "2 <class 'int'>\n"
     ]
    }
   ],
   "metadata": {}
  },
  {
   "cell_type": "markdown",
   "source": [
    "**Limite:** toutes les conversion ne sont pas possibles, par exemple un objet de type *str* en un objet de type *int*."
   ],
   "metadata": {}
  },
  {
   "cell_type": "code",
   "execution_count": 9,
   "source": [
    "try: # Un essai du bloc de code suivant.\n",
    "    x = int('222a')\n",
    "    print('peut être fait')\n",
    "    print(x)\n",
    "except: # sauf si une erreur est trouvé dans le code\n",
    "    print('ne peut pas être fait')"
   ],
   "outputs": [
    {
     "output_type": "stream",
     "name": "stdout",
     "text": [
      "ne peut pas être fait\n"
     ]
    }
   ],
   "metadata": {}
  },
  {
   "cell_type": "markdown",
   "source": [
    "**Remarque**: L'indentation est requise (typiquement 4 espaces)."
   ],
   "metadata": {}
  },
  {
   "cell_type": "markdown",
   "source": [
    "**Question**: Peut on convertir un booléen `x = False` en un entier?\n",
    "\n",
    "- **A:** No.\n",
    "- **B:** Oui, le résultat est 0.\n",
    "- **C:** Oui, le résultat est 1.\n",
    "- **D:** Oui, le résultat est -1\n",
    "- **E:** Ne sais pas."
   ],
   "metadata": {}
  },
  {
   "cell_type": "code",
   "execution_count": 12,
   "source": [
    "# Exemple pour répondre.\n",
    "x = False\n",
    "y = int(x)\n",
    "print(y, type(y))"
   ],
   "outputs": [
    {
     "output_type": "stream",
     "name": "stdout",
     "text": [
      "0 <class 'int'>\n"
     ]
    }
   ],
   "metadata": {}
  },
  {
   "cell_type": "markdown",
   "source": [
    "## Opérateur\n",
    "\n",
    "On peut combiner les variables en appliquant des **opérateurs** (e.g. +, -, /, **). Pour des nombres nous avons:"
   ],
   "metadata": {}
  },
  {
   "cell_type": "code",
   "execution_count": 13,
   "source": [
    "x = 3\n",
    "y = 2\n",
    "print(x+y)\n",
    "print(x-y)\n",
    "print(x/y)\n",
    "print(x*y)"
   ],
   "outputs": [
    {
     "output_type": "stream",
     "name": "stdout",
     "text": [
      "5\n",
      "1\n",
      "1.5\n",
      "6\n"
     ]
    }
   ],
   "metadata": {}
  },
  {
   "cell_type": "markdown",
   "source": [
    "Pour des objets de type *str* on peut utiliser '+' pour la concaténation:"
   ],
   "metadata": {}
  },
  {
   "cell_type": "code",
   "execution_count": 14,
   "source": [
    "x = 'abc'\n",
    "y = 'def'\n",
    "print(x+y)"
   ],
   "outputs": [
    {
     "output_type": "stream",
     "name": "stdout",
     "text": [
      "abcdef\n"
     ]
    }
   ],
   "metadata": {}
  },
  {
   "cell_type": "markdown",
   "source": [
    "Un objet de type *str* peut être multiplié par un objet de type *int*:"
   ],
   "metadata": {}
  },
  {
   "cell_type": "code",
   "execution_count": 15,
   "source": [
    "x = \"abc\"\n",
    "y = 2\n",
    "print(x*y)"
   ],
   "outputs": [
    {
     "output_type": "stream",
     "name": "stdout",
     "text": [
      "abcabc\n"
     ]
    }
   ],
   "metadata": {}
  },
  {
   "cell_type": "markdown",
   "source": [
    "**Question**: Quel est le résultat de `x = 3**2`?\n",
    "\n",
    "- **A:** `x = 3`.\n",
    "- **B:** `x = 6`.\n",
    "- **C:** `x = 9`.\n",
    "- **D:** `x = 12`.\n",
    "- **E:** Ne sais pas."
   ],
   "metadata": {}
  },
  {
   "cell_type": "markdown",
   "source": [
    "**Remarque:** la division converti les objets de type *int* en objets de type *float*."
   ],
   "metadata": {}
  },
  {
   "cell_type": "code",
   "execution_count": 18,
   "source": [
    "x = 8\n",
    "y = x/2 # division.\n",
    "z = x//3 # division entière.\n",
    "print(y, type(y))\n",
    "print(z, type(z))"
   ],
   "outputs": [
    {
     "output_type": "stream",
     "name": "stdout",
     "text": [
      "4.0 <class 'float'>\n",
      "2 <class 'int'>\n"
     ]
    }
   ],
   "metadata": {}
  },
  {
   "cell_type": "markdown",
   "source": [
    "## Augmentation\n",
    "\n",
    "Les variables peuvent être modifiées **par des opérateurs d'augmentation** (e.g. +=, -=, *=, /=)"
   ],
   "metadata": {}
  },
  {
   "cell_type": "code",
   "execution_count": 1,
   "source": [
    "x = 3 \n",
    "print(x)\n",
    "x += 1 # même résultat que x = x + 1.\n",
    "print(x)\n",
    "x *= 2 # même résultat que x = x * 2.\n",
    "print(x)\n",
    "x /= 2 # même résultat que x = x / 2.\n",
    "print(x)"
   ],
   "outputs": [
    {
     "output_type": "stream",
     "name": "stdout",
     "text": [
      "3\n",
      "4\n",
      "8\n",
      "4.0\n"
     ]
    }
   ],
   "metadata": {}
  },
  {
   "cell_type": "markdown",
   "source": [
    "## Comparaisons\n",
    "\n",
    "On peut comparer des variables en utilisant les ** des opérateurs booléens** (e.g. ==, !=, <, <=, >, >=). \n"
   ],
   "metadata": {}
  },
  {
   "cell_type": "code",
   "execution_count": 2,
   "source": [
    "x = 3\n",
    "y = 2\n",
    "z = 10\n",
    "print(x < y) # x est strictement inférieur à y.\n",
    "print(x <= y) # x est inférieur ou égal à y.\n",
    "print(x != y) # x est différent de y.\n",
    "print(x == y) # x est égal à y."
   ],
   "outputs": [
    {
     "output_type": "stream",
     "name": "stdout",
     "text": [
      "False\n",
      "False\n",
      "True\n",
      "False\n"
     ]
    }
   ],
   "metadata": {}
  },
  {
   "cell_type": "markdown",
   "source": [
    "La comparaison produit une variable booléenne:"
   ],
   "metadata": {}
  },
  {
   "cell_type": "code",
   "execution_count": 4,
   "source": [
    "z = x < y # z est une variable booléenne.\n",
    "print(type(z), z)"
   ],
   "outputs": [
    {
     "output_type": "stream",
     "name": "stdout",
     "text": [
      "<class 'bool'> False\n"
     ]
    }
   ],
   "metadata": {}
  },
  {
   "cell_type": "markdown",
   "source": [
    "## Résumé\n",
    "\n",
    "Les concepts importants à retenir:\n",
    "\n",
    "1. Variable\n",
    "2. Réference\n",
    "3. Objet\n",
    "4. Type (int, float, str, bool)\n",
    "5. Valeur\n",
    "6. Operateur (+, -, *, **, /, //, % etc.)\n",
    "7. Augmentation (+=, -=, *=, /= etc.)\n",
    "8. Comparaison (==, !=, <, <= etc.)"
   ],
   "metadata": {}
  },
  {
   "cell_type": "markdown",
   "source": [
    "# Le type container\n",
    "\n",
    "Ce sont des objets qui consistent en plusieurs objets(ils les \"contiennent\"). Par exemple des objets de type atomique. Ce type d'objet est parfois qualifié également de **collection**. "
   ],
   "metadata": {}
  },
  {
   "cell_type": "markdown",
   "source": [
    "## Les listes\n",
    "\n",
    "Un premier exemple sont les objets de type **list**.  Ils continnent des **variables** qui chacune servent de **référence**  pour un certain objet."
   ],
   "metadata": {}
  },
  {
   "cell_type": "code",
   "execution_count": 1,
   "source": [
    "x = [1,'abc'] # La variable x sert de référence pour un objet de type list qui contient les élément 1 et \"abc\".\n",
    "print(x, type(x))"
   ],
   "outputs": [
    {
     "output_type": "stream",
     "name": "stdout",
     "text": [
      "[1, 'abc'] <class 'list'>\n"
     ]
    }
   ],
   "metadata": {}
  },
  {
   "cell_type": "markdown",
   "source": [
    "La **longueur** d'un objet de type liste peut être obtenu en appliquant la fonction **len**."
   ],
   "metadata": {}
  },
  {
   "cell_type": "code",
   "execution_count": 4,
   "source": [
    "print(f'Le nombre d\\'éléments dans x est {len(x)}')"
   ],
   "outputs": [
    {
     "output_type": "stream",
     "name": "stdout",
     "text": [
      "Le nombre d'éléments dans x est 2\n"
     ]
    }
   ],
   "metadata": {}
  },
  {
   "cell_type": "markdown",
   "source": [
    "Les objets contenus dans une liste ont la caractéristique d'avoir des indices, et on dit qu'un objet de type liste est **subscriptable**(que l'on peut essayer de traduire par indexable).\n",
    "\n",
    "*Remarque*: le premier indice est *O*."
   ],
   "metadata": {}
  },
  {
   "cell_type": "code",
   "execution_count": 6,
   "source": [
    "print(x[0]) # 1er élément.\n",
    "print(x[1]) # 2ème élément."
   ],
   "outputs": [
    {
     "output_type": "stream",
     "name": "stdout",
     "text": [
      "1\n",
      "abc\n"
     ]
    }
   ],
   "metadata": {}
  },
  {
   "cell_type": "markdown",
   "source": [
    "Une liste est **muable**(ou modifiable), i.e. on peut modifier ses éléments à la volée, et leur objets de référence."
   ],
   "metadata": {}
  },
  {
   "cell_type": "code",
   "execution_count": 7,
   "source": [
    "x[0] = 'def'\n",
    "x[1] = 2\n",
    "print(x)"
   ],
   "outputs": [
    {
     "output_type": "stream",
     "name": "stdout",
     "text": [
      "['def', 2]\n"
     ]
    }
   ],
   "metadata": {}
  },
  {
   "cell_type": "markdown",
   "source": [
    "et leur ajouter des éléments:"
   ],
   "metadata": {}
  },
  {
   "cell_type": "code",
   "execution_count": 8,
   "source": [
    "x.append('nouvel_élément') # ajout d'un nouvel élément à la fin de la liste.\n",
    "print(x)"
   ],
   "outputs": [
    {
     "output_type": "stream",
     "name": "stdout",
     "text": [
      "['def', 2, 'nouvel_élément']\n"
     ]
    }
   ],
   "metadata": {}
  },
  {
   "cell_type": "markdown",
   "source": [
    "**Lien:** [Pourquoi zéro est le premier indice?](http://python-history.blogspot.com/2013/10/why-python-uses-0-based-indexing.html)  "
   ],
   "metadata": {}
  },
  {
   "cell_type": "markdown",
   "source": [
    "### Le slicing\n",
    "\n",
    "Le **slicing** sur un objet est une opération qui permet d'extraire du contenu de celui-ci. C'est le cas pour les listes.\n",
    "\n",
    "*Remarque:* le slicing ne s'applique pas sur tous les types d'objet."
   ],
   "metadata": {}
  },
  {
   "cell_type": "code",
   "execution_count": 2,
   "source": [
    "x = [0,1,2,3,4,5]\n",
    "print(x[0:3]) # x[0] inclu , x[3] exclu.\n",
    "print(x[1:3])\n",
    "print(x[:3])\n",
    "print(x[1: ])\n",
    "print(x[:99]) # Ceci est particulier à Ptyhon. En général cela génère une erreur.  \n",
    "print(x[:-1]) # x[-1] est le dernier élément.\n",
    "\n",
    "print(type(x[ : -1])) # Le Slicing produit une liste.\n",
    "print(type(x[-1])) # Sauf s'il n'y a qu'un seul élément."
   ],
   "outputs": [
    {
     "output_type": "stream",
     "name": "stdout",
     "text": [
      "[0, 1, 2]\n",
      "[1, 2]\n",
      "[0, 1, 2]\n",
      "[1, 2, 3, 4, 5]\n",
      "[0, 1, 2, 3, 4, 5]\n",
      "[0, 1, 2, 3, 4]\n",
      "<class 'list'>\n",
      "<class 'int'>\n"
     ]
    }
   ],
   "metadata": {}
  },
  {
   "cell_type": "markdown",
   "source": [
    "**Explication.** Les slices sont des intervalles semi-ouverts. i.e. ``x[i : i + n]`` est un intervalle qui commence en ``x[i]`` et crée une liste list de(jusqu'à) ``n`` éléments."
   ],
   "metadata": {}
  },
  {
   "cell_type": "code",
   "execution_count": 3,
   "source": [
    "# Séparation d'une liste au points x[3] et x[5]: \n",
    "print(x[0:3])\n",
    "print(x[3:5])\n",
    "print(x[5:])"
   ],
   "outputs": [
    {
     "output_type": "stream",
     "name": "stdout",
     "text": [
      "[0, 1, 2]\n",
      "[3, 4]\n",
      "[5]\n"
     ]
    }
   ],
   "metadata": {}
  },
  {
   "cell_type": "markdown",
   "source": [
    "**Question**: Considérons le code suivant:"
   ],
   "metadata": {}
  },
  {
   "cell_type": "code",
   "execution_count": 4,
   "source": [
    "x = [0,1,2,3,4,5]"
   ],
   "outputs": [],
   "metadata": {}
  },
  {
   "cell_type": "markdown",
   "source": [
    "Quel est le résultat de `print(x[-4 : -2])`?\n",
    "\n",
    "- **A:** [1,2,3]\n",
    "- **B:** [2,3,4]\n",
    "- **C:** [2,3]\n",
    "- **D:** [3,4]\n",
    "- **E:** Ne sais pas."
   ],
   "metadata": {}
  },
  {
   "cell_type": "code",
   "execution_count": 5,
   "source": [
    "print(x[-4:-2])\n",
    "print(x[2:4])"
   ],
   "outputs": [
    {
     "output_type": "stream",
     "name": "stdout",
     "text": [
      "[2]\n",
      "[3]\n"
     ]
    }
   ],
   "metadata": {}
  },
  {
   "cell_type": "markdown",
   "source": [
    "### Références multiples.\n",
    "\n",
    "**Important**: Plusieurs variables peuvent servir de référence pour la **même** liste. "
   ],
   "metadata": {}
  },
  {
   "cell_type": "code",
   "execution_count": 4,
   "source": [
    "x = [1,2,3]\n",
    "y = x # y sert de référence pour la même liste que x.\n",
    "y[0] = 2 # on change le premier élément de la liste y.\n",
    "print(x) # x est aussi modifié car il sert de référence pour la même liste que y."
   ],
   "outputs": [
    {
     "output_type": "stream",
     "name": "stdout",
     "text": [
      "[2, 2, 3]\n"
     ]
    }
   ],
   "metadata": {}
  },
  {
   "cell_type": "markdown",
   "source": [
    "Pour savoir si deux variables servent de référence pour un même objet on utilise l'opérateur **is**."
   ],
   "metadata": {}
  },
  {
   "cell_type": "code",
   "execution_count": 12,
   "source": [
    "print(y is x) \n",
    "z = [1,2]\n",
    "w = [1,2] \n",
    "print(z is w) # z et w ont le même contenu numérique, mais ne font pas référence au même objet. "
   ],
   "outputs": [
    {
     "output_type": "stream",
     "name": "stdout",
     "text": [
      "True\n",
      "False\n"
     ]
    }
   ],
   "metadata": {}
  },
  {
   "cell_type": "markdown",
   "source": [
    "**Conclusion:** Le signe `=` copie la référence, mais pas le contenu! Qu'en est-il des types atomiques? "
   ],
   "metadata": {}
  },
  {
   "cell_type": "code",
   "execution_count": 13,
   "source": [
    "z = 10\n",
    "w = z\n",
    "print(z is w) # w est la même référence que z.\n",
    "z += 5\n",
    "print(z, w)\n",
    "print(z is w) # z a été remplacé par l'opérateur d'augmentation. "
   ],
   "outputs": [
    {
     "output_type": "stream",
     "name": "stdout",
     "text": [
      "True\n",
      "15 10\n",
      "False\n"
     ]
    }
   ],
   "metadata": {}
  },
  {
   "cell_type": "markdown",
   "source": [
    "Si une variable est supprimée, l'autre continue de servir de référence pour la même liste."
   ],
   "metadata": {}
  },
  {
   "cell_type": "code",
   "execution_count": 14,
   "source": [
    "del x # on supprime la variable x.\n",
    "print(y)"
   ],
   "outputs": [
    {
     "output_type": "stream",
     "name": "stdout",
     "text": [
      "[2, 2, 3]\n"
     ]
    }
   ],
   "metadata": {}
  },
  {
   "cell_type": "markdown",
   "source": [
    "A l'inverse, une liste peut être copiée avec le module **copy**:"
   ],
   "metadata": {}
  },
  {
   "cell_type": "code",
   "execution_count": 15,
   "source": [
    "from copy import copy\n",
    "\n",
    "x = [1, 2, 3]\n",
    "y = copy(x) # y est une copie de x.\n",
    "y[0] = 2\n",
    "print(y)\n",
    "print(x) # x n'est pas modifié quand on modifie y.\n",
    "print(x is y) # ils ne sont pas référence du même objet."
   ],
   "outputs": [
    {
     "output_type": "stream",
     "name": "stdout",
     "text": [
      "[2, 2, 3]\n",
      "[1, 2, 3]\n",
      "False\n"
     ]
    }
   ],
   "metadata": {}
  },
  {
   "cell_type": "markdown",
   "source": [
    "ou par slicing:"
   ],
   "metadata": {}
  },
  {
   "cell_type": "code",
   "execution_count": 16,
   "source": [
    "x = [1, 2, 3]\n",
    "y = x[ : ] # y est une copie de x.\n",
    "y[0] = 2\n",
    "print(y)\n",
    "print(x) # x n'est pas modifié quand on modifie y."
   ],
   "outputs": [
    {
     "output_type": "stream",
     "name": "stdout",
     "text": [
      "[2, 2, 3]\n",
      "[1, 2, 3]\n"
     ]
    }
   ],
   "metadata": {}
  },
  {
   "cell_type": "markdown",
   "source": [
    "**Point avancé**: Le module **deepcopy** est requis, quand les listes contiennent des objets muables:"
   ],
   "metadata": {}
  },
  {
   "cell_type": "code",
   "execution_count": 17,
   "source": [
    "from copy import deepcopy\n",
    "\n",
    "a = [1, 2, 3]\n",
    "x = [a, 2, 3] # x est une liste d'une liste et deux entiers.\n",
    "y1 = copy(x) # y1 est une copie de x\n",
    "y2 = deepcopy(x) # y2 est une deadcopy(\"copie morte\") de x.\n",
    "\n",
    "a[0] = 10 # modification 1.\n",
    "x[-1] = 1 # modification 2.\n",
    "print(x) # Les deux modifications ont eu cours.\n",
    "print(y1) # y1[0] est référence pour la même liste que x[0]. Seule la modification 1 a eu cours.\n",
    "print(y2) # y2[0] est une copie de la liste originelle de référence x[0]."
   ],
   "outputs": [
    {
     "output_type": "stream",
     "name": "stdout",
     "text": [
      "[[10, 2, 3], 2, 1]\n",
      "[[10, 2, 3], 2, 3]\n",
      "[[1, 2, 3], 2, 3]\n"
     ]
    }
   ],
   "metadata": {}
  },
  {
   "cell_type": "markdown",
   "source": [
    "**Question**: Considérons le code:"
   ],
   "metadata": {}
  },
  {
   "cell_type": "code",
   "execution_count": 18,
   "source": [
    "x = [1, 2, 3]\n",
    "y = [x, x]\n",
    "z = x\n",
    "z[0] = 3\n",
    "z[2] = 1"
   ],
   "outputs": [],
   "metadata": {}
  },
  {
   "cell_type": "markdown",
   "source": [
    "Quel est le résultat de `print(y[0])`?\n",
    "\n",
    "- **A:** 1\n",
    "- **B:** 3\n",
    "- **C:** [3, 2, 1]\n",
    "- **D:** [1, 2, 3]\n",
    "- **E:** Ne sais pas"
   ],
   "metadata": {}
  },
  {
   "cell_type": "markdown",
   "source": [
    "## Tuples\n",
    "\n",
    "Un **tuple** ou vecteur est une **liste immuable**. Extraire de l'information est similaire:"
   ],
   "metadata": {}
  },
  {
   "cell_type": "code",
   "execution_count": 2,
   "source": [
    "x = (1, 2, 3) # remarque: parenthèses \"( )\"à la place des crochets \"[ ]\" pour les définir\n",
    "print(x, type(x))\n",
    "print(x[2])\n",
    "print(x[ : 2])"
   ],
   "outputs": [
    {
     "output_type": "stream",
     "name": "stdout",
     "text": [
      "(1, 2, 3) <class 'tuple'>\n",
      "3\n",
      "(1, 2)\n"
     ]
    }
   ],
   "metadata": {}
  },
  {
   "cell_type": "markdown",
   "source": [
    "Mais il **ne peut pas être modifié** (il est immuable):                                  "
   ],
   "metadata": {}
  },
  {
   "cell_type": "code",
   "execution_count": 3,
   "source": [
    "try: # essai d'execution du bloc de code suivant\n",
    "    x[0] = 2\n",
    "    print('réussite à faire x[0]=2')\n",
    "except: # si au moins une erreur se produit dans le code précédent\n",
    "    print('pas de réussite à faire x[0]=2')\n",
    "print(x)"
   ],
   "outputs": [
    {
     "output_type": "stream",
     "name": "stdout",
     "text": [
      "pas de réussite à faire x[0]=2\n",
      "(1, 2, 3)\n"
     ]
    }
   ],
   "metadata": {}
  },
  {
   "cell_type": "markdown",
   "source": [
    "## Dictionaires \n",
    "\n",
    "Une **dictionaire** est un type de **container** dont les éléments sont identifiés par des **clés** plutôt que par des indices. \n",
    "\n",
    "* **Clé:** tout objet **immuable**  peut être une clé .\n",
    "* **Valeurs:** il n'y a pas de contrainte sur celles-ci "
   ],
   "metadata": {}
  },
  {
   "cell_type": "code",
   "execution_count": 1,
   "source": [
    "x = {} # création de x comme dictionaire vide\n",
    "x['abc'] = '1' # clé='abc', valeur = '1'\n",
    "print(x['abc'])\n",
    "x[('abc',1)] = 2 # clé=('abc',1), valeur = 2"
   ],
   "outputs": [
    {
     "output_type": "stream",
     "name": "stdout",
     "text": [
      "1\n"
     ]
    }
   ],
   "metadata": {}
  },
  {
   "cell_type": "markdown",
   "source": [
    "Pour extraire les éléments du dictionaire on utilise leurs clés: "
   ],
   "metadata": {}
  },
  {
   "cell_type": "code",
   "execution_count": 2,
   "source": [
    "key = 'abc'\n",
    "value = x[key]\n",
    "print(value)"
   ],
   "outputs": [
    {
     "output_type": "stream",
     "name": "stdout",
     "text": [
      "1\n"
     ]
    }
   ],
   "metadata": {}
  },
  {
   "cell_type": "code",
   "execution_count": 3,
   "source": [
    "key = ('abc',1)\n",
    "value = x[key]\n",
    "print(value)"
   ],
   "outputs": [
    {
     "output_type": "stream",
     "name": "stdout",
     "text": [
      "2\n"
     ]
    }
   ],
   "metadata": {}
  },
  {
   "cell_type": "markdown",
   "source": [
    "Un dictionaire avec du contenu peut aussi être créé:"
   ],
   "metadata": {}
  },
  {
   "cell_type": "code",
   "execution_count": 4,
   "source": [
    "y = {'abc': '1', 'a': 1, 'b': 2, 'c': 3}\n",
    "print(y['c'])"
   ],
   "outputs": [
    {
     "output_type": "stream",
     "name": "stdout",
     "text": [
      "3\n"
     ]
    }
   ],
   "metadata": {}
  },
  {
   "cell_type": "markdown",
   "source": [
    "Pour **supprimer* le contenu du dictionaire on utilise sa clé:"
   ],
   "metadata": {}
  },
  {
   "cell_type": "code",
   "execution_count": 5,
   "source": [
    "print(y)\n",
    "del y['abc']\n",
    "print(y)"
   ],
   "outputs": [
    {
     "output_type": "stream",
     "name": "stdout",
     "text": [
      "{'abc': '1', 'a': 1, 'b': 2, 'c': 3}\n",
      "{'a': 1, 'b': 2, 'c': 3}\n"
     ]
    }
   ],
   "metadata": {}
  },
  {
   "cell_type": "markdown",
   "source": [
    "**Exercice:** Créez un dictionaire appelé `TennisUSNo1_90s` avec les noms Agassi, Courier, Sampras comme valeurs et leurs prénoms comme clés."
   ],
   "metadata": {}
  },
  {
   "cell_type": "markdown",
   "source": [
    "**Réponse:**"
   ],
   "metadata": {}
  },
  {
   "cell_type": "code",
   "execution_count": 6,
   "source": [
    "TennisUSNo1_90s = {}\n",
    "TennisUSNo1_90s['André'] = 'Agassi'\n",
    "TennisUSNo1_90s['Jim'] = 'Courier'\n",
    "TennisUSNo1_90s['Pete'] = 'Sampras'\n",
    "\n",
    "grandChelem14 = TennisUSNo1_90s['Pete']\n",
    "print(grandChelem14)"
   ],
   "outputs": [
    {
     "output_type": "stream",
     "name": "stdout",
     "text": [
      "Sampras\n"
     ]
    }
   ],
   "metadata": {}
  },
  {
   "cell_type": "markdown",
   "source": [],
   "metadata": {}
  },
  {
   "cell_type": "markdown",
   "source": [
    "## Résumé\n",
    "\n",
    "Nouveaux concepts introduits:\n",
    "\n",
    "1. Type containers (listes, tuples, dictionaires)\n",
    "2. Immuable/muable\n",
    "3. Slicing sur les listes et tuples\n",
    "4. Références multiples(utilisation de copy et deepcopy)\n",
    "5. Clés et valeurs pour les dictionaires"
   ],
   "metadata": {}
  },
  {
   "cell_type": "markdown",
   "source": [
    "**Remarque:** tous les types atomiques comme immuables, et seulement les chaînes de caractères peuvent être indexables(\"subscriptable\")."
   ],
   "metadata": {}
  },
  {
   "cell_type": "code",
   "execution_count": 7,
   "source": [
    "x = 'abcdef'\n",
    "print(x[:3])\n",
    "print(x[3:5])\n",
    "print(x[5:])\n",
    "try:\n",
    "    x[0] = 'f'\n",
    "except:\n",
    "    print('les chaînes de caratères sont immuables ')"
   ],
   "outputs": [
    {
     "output_type": "stream",
     "name": "stdout",
     "text": [
      "abc\n",
      "de\n",
      "f\n",
      "les chaînes de caratères sont immuables \n"
     ]
    }
   ],
   "metadata": {}
  },
  {
   "cell_type": "markdown",
   "source": [
    "**Point avancé:** d'autres objets de type container existent e.g. **namedtuple** et **OrderDict** (voir [collections](https://docs.python.org/2/library/collections.html)), et [**sets**](https://docs.python.org/2/library/sets.html)."
   ],
   "metadata": {}
  },
  {
   "cell_type": "markdown",
   "source": [
    "# Instructions conditionnelles et boucles"
   ],
   "metadata": {}
  },
  {
   "cell_type": "markdown",
   "source": [
    "## Instructions conditionnelles\n",
    "\n",
    "Il s'agit de faire executer des tâches dans un programme lorsque des conditions précisées dans celui-ci sont vérifiées.\n",
    "\n",
    "Avec Python il s'agit alors d'écrire des **instructions conditionnelles**:"
   ],
   "metadata": {}
  }
 ],
 "metadata": {
  "orig_nbformat": 4,
  "language_info": {
   "name": "python",
   "version": "3.8.8",
   "mimetype": "text/x-python",
   "codemirror_mode": {
    "name": "ipython",
    "version": 3
   },
   "pygments_lexer": "ipython3",
   "nbconvert_exporter": "python",
   "file_extension": ".py"
  },
  "kernelspec": {
   "name": "python3",
   "display_name": "Python 3.8.8 64-bit ('base': conda)"
  },
  "interpreter": {
   "hash": "6c5e886fea06f7140bdfeaacc5132f10f8431bb82bdf3f614d06b7f9c313022e"
  }
 },
 "nbformat": 4,
 "nbformat_minor": 2
}