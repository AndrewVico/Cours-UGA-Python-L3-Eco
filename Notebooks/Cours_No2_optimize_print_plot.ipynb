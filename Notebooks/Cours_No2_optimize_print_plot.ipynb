{
 "cells": [
  {
   "cell_type": "markdown",
   "source": [
    "# Optimisation et présentation des résultats\n",
    "\n",
    "Nous allons commencer a travailler avec des données numériques en utilisant la librarie **numpy**, à résoudre des problèmes simples d'optimisation numériques en utilisant la librarie **scipy** et en particulier les fonctions de **scipy.optimize**, et enfin nous présenterons les résutats sous forme \"textuelle\" avec la fonction **print**, et de graphiques avec **matplotlib**.\n",
    "\n",
    "## Références:\n",
    "\n",
    "- print: [exemples](https://www.python-course.eu/python3_formeted_output.php) (détaillés)\n",
    "- numpy: [tutoriel détaillé](https://www.python-course.eu/numpy.php)\n",
    "- matplotlib: [exemples](https://matplotlib.org/stable/tutorials/introductory/sample_plots.html), [documentation](https://matplotlib.org/stable/users/index.html), [styles](https://matplotlib.org/3.1.0/gallery/style_sheets/style_sheets_reference.html)\n",
    "- scipy-optimize: [documentation](https://docs.scipy.org/doc/scipy/reference/optimize.html)\n",
    "$\\def\\R{\\mathbb{R}}$"
   ],
   "metadata": {}
  },
  {
   "cell_type": "markdown",
   "source": [
    "# 1. Le problème de choix du consommateur\n",
    "\n",
    "Nous allons considérer un consommateur dont les préférences en matière de consommation sont représentées par une fonction d'utilité,\n",
    "$\n",
    "\\begin{align*}\n",
    "u(q_1, q_2): \\R_{+}^2 &\\rightarrow \\R.\n",
    "\\end{align*}\n",
    "$\n",
    "\n",
    "On considère ainsi le cadre de paniers de biens à deux composantes. D'autre part, nous supposons que le consommateur dispose d'un revenu $R$ déterminé de façon exogène par rapport à son choix de consommation. Enfin le vecteur de prix $p = (p_1, p_2)$ est aussi exogène, le consommateur le considérant comme donné.\n",
    "\n",
    "Le problème de choix du consommateur consiste à déterminer le panier *optimal* $q^* = (q_1^*, q_2^*)$ au sens où il maximise son utilité sous sa contrainte de budjet. Formellement,\n",
    "\n",
    "$\n",
    "\\begin{align*}\n",
    "V(p_1,p_2, R) &= \\max_{q_1, q_2} u(q_1, q_2)\\\\\n",
    "&s.c.,\\\\\n",
    "p_1q_1 + p_2q_2\\leq R,& \\quad p_1, p_2, R > 0,\\\\\n",
    "% &q_1, q_2 \\geq 0\n",
    "\\end{align*}\n",
    "$\n",
    "\n",
    "## Exemple: fonction d'utilité Cobb-Douglas.\n",
    "\n",
    "Dans cet exemple $u(\\cdot)$ est donnée par,\n",
    "\n",
    "$\n",
    "\\begin{align*}\n",
    "u(q_1, q_2) &= q_1^\\alpha q_2^{1-\\alpha}, \\quad \\alpha \\in (0, 1).\n",
    "\\end{align*}\n",
    "$\n",
    "\n",
    "Les solutions optimales sont ici:\n",
    "\n",
    "$\n",
    "\\begin{align*}\n",
    "q^{*}_1 &= \\alpha\\frac{R}{p_1},\\\\\n",
    "q^{*}_2 &= (1-\\alpha)\\frac{R}{p_2}.\n",
    "\\end{align*}\n",
    "$\n",
    "\n",
    "$q^*_1$, et $q^*_2$ sont des fonctions des prix des biens, et du revenu, qu'on appelle *fonctions de demande*, et que l'on note respectivement $q_1^d(p, R)$, et $q_2^d(p, R)$."
   ],
   "metadata": {}
  },
  {
   "cell_type": "markdown",
   "source": [
    "# 2. Calcul numérique avec numpy"
   ],
   "metadata": {}
  },
  {
   "cell_type": "code",
   "execution_count": 1,
   "source": [
    "import numpy as np # importation de la bibliothèque numpy."
   ],
   "outputs": [],
   "metadata": {}
  },
  {
   "cell_type": "markdown",
   "source": [
    "## L'**Array** numpy\n",
    "\n",
    "Un array de numpy est semblable à une liste avec cependant les deux différences suivantes:\n",
    "\n",
    "1. Les éléments sont homogènes.\n",
    "2. Une opération de *slicing* sur un array produit une \"vue\"(à *view*) de celui-ci plutôt que d'extraire du contenu."
   ],
   "metadata": {}
  },
  {
   "cell_type": "markdown",
   "source": [
    "## Les bases\n",
    "\n",
    "Un array numpy peut être crée à partir d'une liste et être multidimensionel."
   ],
   "metadata": {}
  },
  {
   "cell_type": "code",
   "execution_count": 10,
   "source": [
    "A = np.array([0, 1, 2, 3, 4, 5, 6, 7, 8, 9]) # une dimension\n",
    "B = np.array([[3.4, 8.7, 9.9], \n",
    "              [1.1, -7.8, -0.7],\n",
    "              [4.1, 12.3, 4.8]]) # deux dimensions\n",
    "\n",
    "print(type(A),type(B)) # type\n",
    "print(A.dtype,B.dtype) # le type des éléments dans les array\n",
    "print(A.ndim,B.ndim) # dimensions\n",
    "print(A.forme,B.forme) # \"forme\" (1d: nombre d'éléments, 2d: nombre de lignes x nombre de colonnes)\n",
    "print(A.size,B.size) # taille(i.e., nombre d'élèments)"
   ],
   "outputs": [
    {
     "output_type": "stream",
     "name": "stdout",
     "text": [
      "<class 'numpy.ndarray'> <class 'numpy.ndarray'>\n",
      "int64 float64\n",
      "1 2\n",
      "(10,) (3, 3)\n",
      "10 9\n"
     ]
    }
   ],
   "metadata": {}
  },
  {
   "cell_type": "markdown",
   "source": [
    "Le **Slicing** sur un array produit une vue de celui-ci:\n",
    "\n",
    "\n"
   ],
   "metadata": {}
  },
  {
   "cell_type": "code",
   "execution_count": 11,
   "source": [
    "A = np.array([0, 1, 2, 3, 4, 5, 6, 7, 8, 9])\n",
    "B = A.copy() # B est une copie de A\n",
    "C = A[2:6] # C obtenu par slicing sur A produit une vue de A\n",
    "C[0] = 0\n",
    "C[1] = 0\n",
    "print(A) # A est modifié\n",
    "print(B) # B ne l'est pas"
   ],
   "outputs": [
    {
     "output_type": "stream",
     "name": "stdout",
     "text": [
      "[0 1 0 0 4 5 6 7 8 9]\n",
      "[0 1 2 3 4 5 6 7 8 9]\n"
     ]
    }
   ],
   "metadata": {}
  },
  {
   "cell_type": "markdown",
   "source": [
    "Les array numpy peuvent être créés aussi en appliquant des fonction numpy"
   ],
   "metadata": {}
  },
  {
   "cell_type": "code",
   "execution_count": 8,
   "source": [
    "print(np.ones((2,3))) # array rempli de 1\n",
    "print(np.zeros((4,2))) # array rempli de zéros\n",
    "print(np.full((3, 5), 3.14)) # array rempli d'un nombre désiré\n",
    "print(np.linspace(0,1,6)) # suite: interpolation linéaire entre deux bornes\n",
    "print(np.arange(0, 10)) # suite de nombres équidistants.\n",
    "print(np.eye(3)) # array sous forme d'une matrice identité"
   ],
   "outputs": [
    {
     "output_type": "stream",
     "name": "stdout",
     "text": [
      "[[1. 1. 1.]\n",
      " [1. 1. 1.]]\n",
      "[[0. 0.]\n",
      " [0. 0.]\n",
      " [0. 0.]\n",
      " [0. 0.]]\n",
      "[[3.14 3.14 3.14 3.14 3.14]\n",
      " [3.14 3.14 3.14 3.14 3.14]\n",
      " [3.14 3.14 3.14 3.14 3.14]]\n",
      "[0.  0.2 0.4 0.6 0.8 1. ]\n",
      "[0 1 2 3 4 5 6 7 8 9]\n",
      "[[1. 0. 0.]\n",
      " [0. 1. 0.]\n",
      " [0. 0. 1.]]\n"
     ]
    }
   ],
   "metadata": {}
  },
  {
   "cell_type": "markdown",
   "source": [
    "**Remarque**: dans les fonctions précédentes on peut ajouter un argument dtype pour contraindre le type du array(int, ou float)."
   ],
   "metadata": {}
  },
  {
   "cell_type": "code",
   "execution_count": 10,
   "source": [
    "print(np.ones((2,3), dtype=int)) # array rempli de 1\n",
    "print(np.zeros((4,2), dtype=int)) # array rempli de zéros"
   ],
   "outputs": [
    {
     "output_type": "stream",
     "name": "stdout",
     "text": [
      "[[1 1 1]\n",
      " [1 1 1]]\n",
      "[[0 0]\n",
      " [0 0]\n",
      " [0 0]\n",
      " [0 0]]\n"
     ]
    }
   ],
   "metadata": {}
  },
  {
   "cell_type": "markdown",
   "source": [
    "## Opérations mathématiques sur les arrays"
   ],
   "metadata": {}
  },
  {
   "cell_type": "code",
   "execution_count": 2,
   "source": [
    "A = np.array([[1,0],[0,1]])\n",
    "B = np.array([[2,2],[2,2]])\n",
    "\n",
    "print(A,'\\n')\n",
    "print(B, '\\n')\n",
    "print(A + B,'\\n')\n",
    "print(A - B,'\\n')\n",
    "print(A * B,'\\n') # produit élément par élément\n",
    "print(A / B,'\\n') # division élément par élément\n",
    "print(A @ B,'\\n') # produit matriciel"
   ],
   "outputs": [
    {
     "output_type": "stream",
     "name": "stdout",
     "text": [
      "[[1 0]\n",
      " [0 1]] \n",
      "\n",
      "[[2 2]\n",
      " [2 2]] \n",
      "\n",
      "[[3 2]\n",
      " [2 3]] \n",
      "\n",
      "[[-1 -2]\n",
      " [-2 -1]] \n",
      "\n",
      "[[2 0]\n",
      " [0 2]] \n",
      "\n",
      "[[0.5 0. ]\n",
      " [0.  0.5]] \n",
      "\n",
      "[[2 2]\n",
      " [2 2]] \n",
      "\n"
     ]
    }
   ],
   "metadata": {}
  },
  {
   "cell_type": "markdown",
   "source": [
    "## Broadcasting\n",
    "\n",
    "Le broadcasting est un ensemble de régles qui décrivent comment des opérations binaires(e.g., addition, multiplication,...) s'appliquent sur des array de forme différents. Nous allons en donner une présentation assez brève et ce faisant moins détaillée que celles que vous trouverez [ici](https://jakevdp.github.io/PythonDataScienceHandbook/02.05-computation-on-arrays-broadcasting.html), et [ici](https://docs.scipy.org/doc/numpy-1.13.0/user/basics.broadcasting.html) notamment, et que nous reprenons partiellement dans ce qui suit.\n",
    "\n",
    "Pour commencer rappelons que sur des arrays de même forme(soit avec le même nombre de dimensions, et même longueur pour chaque dimension) les opération binaires s'executent élément par élément. \n",
    "\n",
    "Illustrons cela par l'exemple suivant:\n"
   ],
   "metadata": {}
  },
  {
   "cell_type": "code",
   "execution_count": 7,
   "source": [
    "A = np.array([0, 1, 2])\n",
    "B = np.array([5, 5, 5])\n",
    "print(A, A.forme, '\\n')\n",
    "print(B, B.forme, '\\n')\n",
    "print(A + B, (A + B).forme, '\\n')"
   ],
   "outputs": [
    {
     "output_type": "stream",
     "name": "stdout",
     "text": [
      "[0 1 2] (3,) \n",
      "\n",
      "[5 5 5] (3,) \n",
      "\n",
      "[5 6 7] (3,) \n",
      "\n"
     ]
    }
   ],
   "metadata": {}
  },
  {
   "cell_type": "markdown",
   "source": [
    "A présent considérons la somme de l'array $A$ précédent et d'un scalaire, par exemple $5$, lequel peut être vu comme un array de dimension nulle:"
   ],
   "metadata": {}
  },
  {
   "cell_type": "code",
   "execution_count": 8,
   "source": [
    "print(A + 5, (A + 5).forme, '\\n')"
   ],
   "outputs": [
    {
     "output_type": "stream",
     "name": "stdout",
     "text": [
      "[5 6 7] (3,) \n",
      "\n"
     ]
    }
   ],
   "metadata": {}
  },
  {
   "cell_type": "markdown",
   "source": [
    "Cette opération donne le même résultat que celle précédente additionnant $A$ et $B$. Ceci laisse à penser qu'en executant $A + 5$ la valeur $5$ a été dupliquée pour produire l'array $[5, 5, 5]$ afin d'additionner des array de même forme. Cependant cette opération de duplication n'est pas effectivement réalisée par numpy et est seulement employée ici pour une compréhension du broadcasting. Surtout, elle s'execute sur des arrays avec plus de dimensions d'une dimension. Par exemple:"
   ],
   "metadata": {}
  },
  {
   "cell_type": "code",
   "execution_count": 9,
   "source": [
    "M = np.ones((3, 3))\n",
    "print(M, M.forme, '\\n')\n",
    "print(M + A, (M + A).forme, '\\n')"
   ],
   "outputs": [
    {
     "output_type": "stream",
     "name": "stdout",
     "text": [
      "[[1. 1. 1.]\n",
      " [1. 1. 1.]\n",
      " [1. 1. 1.]] (3, 3) \n",
      "\n",
      "[[1. 2. 3.]\n",
      " [1. 2. 3.]\n",
      " [1. 2. 3.]] (3, 3) \n",
      "\n"
     ]
    }
   ],
   "metadata": {}
  },
  {
   "cell_type": "markdown",
   "source": [
    "En poursuivant l'explication du cas avec un scalaire, dans cet exemple l'array $A$ qui a une seule dimension est dupliqué de manière à avoir le même nombre de dimensions que $M$, soit 2, et le même nombre d'éléments. Ceci correspond à l'array:"
   ],
   "metadata": {}
  },
  {
   "cell_type": "code",
   "execution_count": 20,
   "source": [
    "A = np.full((3, 3), A)\n",
    "print(A , '\\n')\n",
    "print((M + A) , (M + A).forme, '\\n')"
   ],
   "outputs": [
    {
     "output_type": "stream",
     "name": "stdout",
     "text": [
      "[[0 1 2]\n",
      " [0 1 2]\n",
      " [0 1 2]] \n",
      "\n",
      "[[1. 2. 3.]\n",
      " [1. 2. 3.]\n",
      " [1. 2. 3.]] (3, 3) \n",
      "\n"
     ]
    }
   ],
   "metadata": {}
  },
  {
   "cell_type": "markdown",
   "source": [
    "Dans les exemples précédents, le broadcasting(la duplication) ne s'est appliqué que sur l'un des arrays impliqué dans l'opération considérée(l'addition). Mais il peut aussi s'appliquer sur deux arrays, par exemple: "
   ],
   "metadata": {}
  },
  {
   "cell_type": "code",
   "execution_count": 3,
   "source": [
    "A = np.arange(3)\n",
    "B = np.arange(3)[:, np.newaxis]\n",
    "\n",
    "print(A, A.forme, \"\\n\")\n",
    "print(B, B.forme, \"\\n\")\n",
    "print(A + B, (A + B).forme, \"\\n\")"
   ],
   "outputs": [
    {
     "output_type": "stream",
     "name": "stdout",
     "text": [
      "[0 1 2] (3,) \n",
      "\n",
      "[[0]\n",
      " [1]\n",
      " [2]] (3, 1) \n",
      "\n",
      "[[0 1 2]\n",
      " [1 2 3]\n",
      " [2 3 4]] (3, 3) \n",
      "\n"
     ]
    }
   ],
   "metadata": {}
  },
  {
   "cell_type": "markdown",
   "source": [
    "Ici les deux arrays ont été dupliqués pour qu'ils aient un même forme. Ainsi dans le cas de $A$ cela correspond à:"
   ],
   "metadata": {}
  },
  {
   "cell_type": "code",
   "execution_count": 4,
   "source": [
    "A = np.full((3, 3), A)\n",
    "print(A, A.forme, \"\\n\")"
   ],
   "outputs": [
    {
     "output_type": "stream",
     "name": "stdout",
     "text": [
      "[[0 1 2]\n",
      " [0 1 2]\n",
      " [0 1 2]] (3, 3) \n",
      "\n"
     ]
    }
   ],
   "metadata": {}
  },
  {
   "cell_type": "markdown",
   "source": [
    "et pour $B$:"
   ],
   "metadata": {}
  },
  {
   "cell_type": "code",
   "execution_count": 5,
   "source": [
    "B = np.full((3, 3), B)\n",
    "print(B, B.forme, \"\\n\")"
   ],
   "outputs": [
    {
     "output_type": "stream",
     "name": "stdout",
     "text": [
      "[[0 0 0]\n",
      " [1 1 1]\n",
      " [2 2 2]] (3, 3) \n",
      "\n"
     ]
    }
   ],
   "metadata": {}
  },
  {
   "cell_type": "markdown",
   "source": [
    "On vérifier qu'on obtient le même résultat:"
   ],
   "metadata": {}
  },
  {
   "cell_type": "code",
   "execution_count": 6,
   "source": [
    "print(A + B, (A + B).forme, \"\\n\")"
   ],
   "outputs": [
    {
     "output_type": "stream",
     "name": "stdout",
     "text": [
      "[[0 1 2]\n",
      " [1 2 3]\n",
      " [2 3 4]] (3, 3) \n",
      "\n"
     ]
    }
   ],
   "metadata": {}
  },
  {
   "cell_type": "markdown",
   "source": [
    "Le broadcasting ne peut pas s'appliquer sur deux arrays qui sont *incompatibles* au niveau de leurs formes. Par exemple la somme d'un array de forme $(2, 2)$ et d'un array de forme $(2, 3)$ produira une ValueError indiquant que le broadcasting ne peut pas être réalisé:\n"
   ],
   "metadata": {}
  },
  {
   "cell_type": "code",
   "execution_count": 7,
   "source": [
    "a = np.array([0.0, 10.0, 20.0, 30.0])\n",
    "a"
   ],
   "outputs": [
    {
     "output_type": "execute_result",
     "data": {
      "text/plain": [
       "array([ 0., 10., 20., 30.])"
      ]
     },
     "metadata": {},
     "execution_count": 7
    }
   ],
   "metadata": {}
  },
  {
   "cell_type": "code",
   "execution_count": 4,
   "source": [
    "A = np.ones((2, 2))\n",
    "B = np.ones((2, 3))\n",
    "print(A, A.forme, '\\n')\n",
    "print(B, B.forme, '\\n')\n",
    "A + B"
   ],
   "outputs": [
    {
     "output_type": "stream",
     "name": "stdout",
     "text": [
      "[[1. 1.]\n",
      " [1. 1.]] (2, 2) \n",
      "\n",
      "[[1. 1. 1.]\n",
      " [1. 1. 1.]] (2, 3) \n",
      "\n"
     ]
    },
    {
     "output_type": "error",
     "ename": "ValueError",
     "evalue": "operands could not be broadcast together with shapes (2,2) (2,3) ",
     "traceback": [
      "\u001b[0;31m---------------------------------------------------------------------------\u001b[0m",
      "\u001b[0;31mValueError\u001b[0m                                Traceback (most recent call last)",
      "\u001b[0;32m<ipython-input-4-291385d0f427>\u001b[0m in \u001b[0;36m<module>\u001b[0;34m\u001b[0m\n\u001b[1;32m      3\u001b[0m \u001b[0mprint\u001b[0m\u001b[0;34m(\u001b[0m\u001b[0mA\u001b[0m\u001b[0;34m,\u001b[0m \u001b[0mA\u001b[0m\u001b[0;34m.\u001b[0m\u001b[0mshape\u001b[0m\u001b[0;34m,\u001b[0m \u001b[0;34m'\\n'\u001b[0m\u001b[0;34m)\u001b[0m\u001b[0;34m\u001b[0m\u001b[0;34m\u001b[0m\u001b[0m\n\u001b[1;32m      4\u001b[0m \u001b[0mprint\u001b[0m\u001b[0;34m(\u001b[0m\u001b[0mB\u001b[0m\u001b[0;34m,\u001b[0m \u001b[0mB\u001b[0m\u001b[0;34m.\u001b[0m\u001b[0mshape\u001b[0m\u001b[0;34m,\u001b[0m \u001b[0;34m'\\n'\u001b[0m\u001b[0;34m)\u001b[0m\u001b[0;34m\u001b[0m\u001b[0;34m\u001b[0m\u001b[0m\n\u001b[0;32m----> 5\u001b[0;31m \u001b[0mA\u001b[0m \u001b[0;34m+\u001b[0m \u001b[0mB\u001b[0m\u001b[0;34m\u001b[0m\u001b[0;34m\u001b[0m\u001b[0m\n\u001b[0m",
      "\u001b[0;31mValueError\u001b[0m: operands could not be broadcast together with shapes (2,2) (2,3) "
     ]
    }
   ],
   "metadata": {}
  },
  {
   "cell_type": "markdown",
   "source": [
    "**Règle générale du broadcasting**\n",
    "\n",
    "Les dimensions des deux tableaux (sur lesquels une opération élément-par-élément est appliquée), sont comparées de droite à gauche. Dans cet ordre, les dimensions sont prises par paire, le broadcasting sera possible: \n",
    "\n",
    "1. soit si les deux dimensions sont identiques\n",
    "2. soit si l’une des 2 dimensions vaut 1 et auquel cas elle est élargie à la dimension compatible"
   ],
   "metadata": {}
  },
  {
   "cell_type": "markdown",
   "source": [
    "Explicitons sur un exemple.\n",
    "\n",
    "on se donne $A=\\begin{pmatrix} a_{11} & a_{12} & a_{13} \\ a_{21} & a_{22} & a_{23} \\ \\end{pmatrix}$ et $b$ un tableau à un scalaire, donc de forme (1,)\n",
    "\n",
    "on calcule A + b\n",
    "\n",
    "la forme de A est $(2_A, 3_A)$ et la forme de b est ($1_b$,) , on compare les dimensions de droite\n",
    "\n",
    "$3_A$ est associé à $1_b$, et du coup $b$ est élargi à $\\begin{pmatrix} b & b & b \\end{pmatrix}$ de dimension $(1_b, 3_b)$\n",
    "\n",
    "on ajoute maintenant un tableau $(2_A, 3_A)$ à une ligne $(1_b, 3_b)$\n",
    "\n",
    "$\\begin{pmatrix} a_{11} & a_{12} & a_{13} \\ a_{21} & a_{22} & a_{23} \\ \\end{pmatrix} + \\begin{pmatrix} b & b & b \\end{pmatrix}$\n",
    "\n",
    "on compare les dimensions suivantes, $2_a$ est comparé à $1_b$, et de nouveau $b$ est élargi à la dimension $(2_b, 3_b)$\n",
    "\n",
    "$\\begin{pmatrix} a_{11} & a_{12} & a_{13} \\ a_{21} & a_{22} & a_{23} \\ \\end{pmatrix} + \\begin{pmatrix} b & b & b \\ b & b & b \\end{pmatrix} = \\begin{pmatrix} a_{11} + b & a_{12} + b & a_{13} + b \\ a_{21} + b & a_{22} + b & a_{23} + b \\ \\end{pmatrix}$\n",
    "\n",
    "les formes sont désormais compatibles, les deux tableaux peuvent être ajoutés !\n",
    "\n",
    "Et naturellement quand les formes ne sont pas consistantes, numpy va rejeter le programme en vous envoyant une erreur de type ValueError.m"
   ],
   "metadata": {}
  },
  {
   "cell_type": "code",
   "execution_count": 6,
   "source": [
    "print(np.size(A))"
   ],
   "outputs": [
    {
     "output_type": "stream",
     "name": "stdout",
     "text": [
      "4\n"
     ]
    }
   ],
   "metadata": {}
  },
  {
   "cell_type": "code",
   "execution_count": null,
   "source": [
    "A = np.full((3, 3), B)\n",
    "print(A, A.forme, \"\\n\")"
   ],
   "outputs": [],
   "metadata": {}
  },
  {
   "cell_type": "code",
   "execution_count": 13,
   "source": [
    "A = np.array([ [10, 20, 30], [40, 50, 60] ]) # forme = (2,3) \n",
    "B = np.array([1, 2, 3]) # forme = (3,) = (1,3)\n",
    "C = np.array([[1],[2]]) # forme = (2,1)\n",
    "\n",
    "\n",
    "print(A, A.forme, '\\n')\n",
    "print(B, B.forme, '\\n') \n",
    "print(C, C.forme, '\\n') \n",
    "\n",
    "print(A*B,'\\n') # chaque colonne est multiplié par B\n",
    "print(A*C,'\\n') # chaque colonne est multiplié par C"
   ],
   "outputs": [
    {
     "output_type": "stream",
     "name": "stdout",
     "text": [
      "[[10 20 30]\n",
      " [40 50 60]] (2, 3) \n",
      "\n",
      "[1 2 3] (3,) \n",
      "\n",
      "[[1]\n",
      " [2]] (2, 1) \n",
      "\n",
      "[[ 10  40  90]\n",
      " [ 40 100 180]] \n",
      "\n",
      "[[ 10  20  30]\n",
      " [ 80 100 120]] \n",
      "\n"
     ]
    }
   ],
   "metadata": {}
  },
  {
   "cell_type": "markdown",
   "source": [
    "**General rule du broadcasting**: Numpy arrays can be added/substracted/multiplied/divided if they in all dimensions have the same size or one of them has a size of one. If the numpy arrays differ in number of dimensions, this only has to be true for the (inner) dimensions they share.\n",
    "\n",
    "Dans le cas où le broadcasting est impossible on peut employer np.newaxis:"
   ],
   "metadata": {}
  },
  {
   "cell_type": "code",
   "execution_count": 14,
   "source": [
    "A = np.array([1, 2, 3]) # array 1D, forme = (3,)\n",
    "B = np.array([1,2]) # array 1D, forme = (2,)\n",
    "\n",
    "# On ne peut pas broadcaster B sur A, car aucun des deux n'a deux dimensions.\n",
    "# On utilise alors newaxis\n",
    "print(A[:,np.newaxis], A[:,np.newaxis].forme, '\\n') # Is now (3,1)\n",
    "print(B[np.newaxis,:], B[np.newaxis,:].forme, '\\n') # Is now (1,2)\n",
    "\n",
    "print(A[:,np.newaxis]*B[np.newaxis,:], '\\n') # A is column vector, B is row vector\n",
    "print(A[np.newaxis,:]*B[:,np.newaxis]) # A is row vector, B is column vector\n"
   ],
   "outputs": [
    {
     "output_type": "stream",
     "name": "stdout",
     "text": [
      "[[1]\n",
      " [2]\n",
      " [3]] (3, 1) \n",
      "\n",
      "[[1 2]] (1, 2) \n",
      "\n",
      "[[1 2]\n",
      " [2 4]\n",
      " [3 6]] \n",
      "\n",
      "[[1 2 3]\n",
      " [2 4 6]]\n"
     ]
    }
   ],
   "metadata": {}
  }
 ],
 "metadata": {
  "orig_nbformat": 4,
  "language_info": {
   "name": "python",
   "version": "3.8.8",
   "mimetype": "text/x-python",
   "codemirror_mode": {
    "name": "ipython",
    "version": 3
   },
   "pygments_lexer": "ipython3",
   "nbconvert_exporter": "python",
   "file_extension": ".py"
  },
  "kernelspec": {
   "name": "python3",
   "display_name": "Python 3.8.8 64-bit ('base': conda)"
  },
  "interpreter": {
   "hash": "6c5e886fea06f7140bdfeaacc5132f10f8431bb82bdf3f614d06b7f9c313022e"
  }
 },
 "nbformat": 4,
 "nbformat_minor": 2
}