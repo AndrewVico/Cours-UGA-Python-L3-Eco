{
 "cells": [
  {
   "cell_type": "markdown",
   "source": [
    "# Optimisation et présentation des résultats\n",
    "\n",
    "Nous allons commencer a travailler avec des données numériques en utilisant la librarie **numpy**, à résoudre des problèmes simples d'optimisation numériques en utilisant la librarie **scipy** et en particulier les fonctions de **scipy.optimize**, et enfin nous présenterons les résutats sous forme \"textuelle\" avec la fonction **print**, et de graphiques avec **matplotlib**.\n",
    "\n",
    "## Références:\n",
    "\n",
    "- print: [exemples](https://www.python-course.eu/python3_formatted_output.php) (détaillés)\n",
    "- numpy: [tutoriel détaillé](https://www.python-course.eu/numpy.php)\n",
    "- matplotlib: [exemples](https://matplotlib.org/stable/tutorials/introductory/sample_plots.html), [documentation](https://matplotlib.org/stable/users/index.html), [styles](https://matplotlib.org/3.1.0/gallery/style_sheets/style_sheets_reference.html)\n",
    "- scipy-optimize: [documentation](https://docs.scipy.org/doc/scipy/reference/optimize.html)\n",
    "$\\def\\R{\\mathbb{R}}$"
   ],
   "metadata": {}
  },
  {
   "cell_type": "markdown",
   "source": [
    "# 1. Le problème de choix du consommateur\n",
    "\n",
    "Nous allons considérer un consommateur dont les préférences en matière de consommation sont représentées par une fonction d'utilité,\n",
    "$\n",
    "\\begin{align*}\n",
    "u(q_1, q_2): \\R_{+}^2 &\\rightarrow \\R.\n",
    "\\end{align*}\n",
    "$\n",
    "\n",
    "On considère ainsi le cadre de paniers de biens à deux composantes. D'autre part, nous supposons que le consommateur dispose d'un revenu $R$ déterminé de façon exogène par rapport à son choix de consommation. Enfin le vecteur de prix $p = (p_1, p_2)$ est aussi exogène, le consommateur le considérant comme donné.\n",
    "\n",
    "Le problème de choix du consommateur consiste à déterminer le panier *optimal* $q^* = (q_1^*, q_2^*)$ au sens où il maximise son utilité sous sa contrainte de budjet. Formellement,\n",
    "\n",
    "$\n",
    "\\begin{align*}\n",
    "V(p_1,p_2, R) &= \\max_{q_1, q_2} u(q_1, q_2)\\\\\n",
    "&s.c.,\\\\\n",
    "p_1q_1 + p_2q_2\\leq R,& \\quad p_1, p_2, R > 0,\\\\\n",
    "% &q_1, q_2 \\geq 0\n",
    "\\end{align*}\n",
    "$\n",
    "\n",
    "## Exemple: fonction d'utilité Cobb-Douglas.\n",
    "\n",
    "Dans cet exemple $u(\\cdot)$ est donnée par,\n",
    "\n",
    "$\n",
    "\\begin{align*}\n",
    "u(q_1, q_2) &= q_1^\\alpha q_2^{1-\\alpha}, \\quad \\alpha \\in (0, 1).\n",
    "\\end{align*}\n",
    "$\n",
    "\n",
    "Les solutions optimales sont ici:\n",
    "\n",
    "$\n",
    "\\begin{align*}\n",
    "q^{*}_1 &= \\alpha\\frac{R}{p_1},\\\\\n",
    "q^{*}_2 &= (1-\\alpha)\\frac{R}{p_2}.\n",
    "\\end{align*}\n",
    "$\n",
    "\n",
    "$q^*_1$, et $q^*_2$ sont des fonctions des prix des biens, et du revenu, qu'on appelle *fonctions de demande*, et que l'on note respectivement $q_1^d(p, R)$, et $q_2^d(p, R)$."
   ],
   "metadata": {}
  },
  {
   "cell_type": "markdown",
   "source": [
    "# 2. Calcul numérique avec numpy"
   ],
   "metadata": {}
  },
  {
   "cell_type": "code",
   "execution_count": 1,
   "source": [
    "import numpy as np # importation de la bibliothèque numpy."
   ],
   "outputs": [],
   "metadata": {}
  },
  {
   "cell_type": "markdown",
   "source": [
    "## L'**Array** numpy\n",
    "\n",
    "Un array de numpy est semblable à une liste avec cependant les deux différences suivantes:\n",
    "\n",
    "1. Les éléments sont homogènes.\n",
    "2. Une opération de *slicing* sur un array produit une \"vue\"(à *view*) de celui-ci plutôt que d'extraire du contenu."
   ],
   "metadata": {}
  },
  {
   "cell_type": "markdown",
   "source": [
    "## Les bases\n",
    "\n",
    "Un array numpy peut être crée à partir d'une liste et être multidimensionel."
   ],
   "metadata": {}
  },
  {
   "cell_type": "code",
   "execution_count": 10,
   "source": [
    "A = np.array([0, 1, 2, 3, 4, 5, 6, 7, 8, 9]) # une dimension\n",
    "B = np.array([[3.4, 8.7, 9.9], \n",
    "              [1.1, -7.8, -0.7],\n",
    "              [4.1, 12.3, 4.8]]) # deux dimensions\n",
    "\n",
    "print(type(A),type(B)) # type\n",
    "print(A.dtype,B.dtype) # le type des éléments dans les array\n",
    "print(A.ndim,B.ndim) # dimensions\n",
    "print(A.shape,B.shape) # \"shape\" (1d: nombre d'éléments, 2d: nombre de lignes x nombre de colonnes)\n",
    "print(A.size,B.size) # taille(i.e., nombre d'élèments)"
   ],
   "outputs": [
    {
     "output_type": "stream",
     "name": "stdout",
     "text": [
      "<class 'numpy.ndarray'> <class 'numpy.ndarray'>\n",
      "int64 float64\n",
      "1 2\n",
      "(10,) (3, 3)\n",
      "10 9\n"
     ]
    }
   ],
   "metadata": {}
  },
  {
   "cell_type": "markdown",
   "source": [
    "Le **Slicing** sur un array produit une vue de celui-ci:\n",
    "\n",
    "\n"
   ],
   "metadata": {}
  },
  {
   "cell_type": "code",
   "execution_count": 11,
   "source": [
    "A = np.array([0, 1, 2, 3, 4, 5, 6, 7, 8, 9])\n",
    "B = A.copy() # B est une copie de A\n",
    "C = A[2:6] # C obtenu par slicing sur A produit une vue de A\n",
    "C[0] = 0\n",
    "C[1] = 0\n",
    "print(A) # A est modifié\n",
    "print(B) # B ne l'est pas"
   ],
   "outputs": [
    {
     "output_type": "stream",
     "name": "stdout",
     "text": [
      "[0 1 0 0 4 5 6 7 8 9]\n",
      "[0 1 2 3 4 5 6 7 8 9]\n"
     ]
    }
   ],
   "metadata": {}
  },
  {
   "cell_type": "markdown",
   "source": [
    "Les array numpy peuvent être créés aussi en appliquant des fonction numpy"
   ],
   "metadata": {}
  },
  {
   "cell_type": "code",
   "execution_count": 8,
   "source": [
    "print(np.ones((2,3))) # array rempli de 1\n",
    "print(np.zeros((4,2))) # array rempli de zéros\n",
    "print(np.full((3, 5), 3.14)) # array rempli d'un nombre désiré\n",
    "print(np.linspace(0,1,6)) # suite: interpolation linéaire entre deux bornes\n",
    "print(np.arange(0, 10)) # suite de nombres équidistants.\n",
    "print(np.eye(3)) # array sous forme d'une matrice identité"
   ],
   "outputs": [
    {
     "output_type": "stream",
     "name": "stdout",
     "text": [
      "[[1. 1. 1.]\n",
      " [1. 1. 1.]]\n",
      "[[0. 0.]\n",
      " [0. 0.]\n",
      " [0. 0.]\n",
      " [0. 0.]]\n",
      "[[3.14 3.14 3.14 3.14 3.14]\n",
      " [3.14 3.14 3.14 3.14 3.14]\n",
      " [3.14 3.14 3.14 3.14 3.14]]\n",
      "[0.  0.2 0.4 0.6 0.8 1. ]\n",
      "[0 1 2 3 4 5 6 7 8 9]\n",
      "[[1. 0. 0.]\n",
      " [0. 1. 0.]\n",
      " [0. 0. 1.]]\n"
     ]
    }
   ],
   "metadata": {}
  },
  {
   "cell_type": "markdown",
   "source": [
    "**Remarque**: dans les fonctions précédentes on peut ajouter un argument dtype pour contraindre le type du array(int, ou float)."
   ],
   "metadata": {}
  },
  {
   "cell_type": "code",
   "execution_count": 10,
   "source": [
    "print(np.ones((2,3), dtype=int)) # array rempli de 1\n",
    "print(np.zeros((4,2), dtype=int)) # array rempli de zéros"
   ],
   "outputs": [
    {
     "output_type": "stream",
     "name": "stdout",
     "text": [
      "[[1 1 1]\n",
      " [1 1 1]]\n",
      "[[0 0]\n",
      " [0 0]\n",
      " [0 0]\n",
      " [0 0]]\n"
     ]
    }
   ],
   "metadata": {}
  },
  {
   "cell_type": "markdown",
   "source": [
    "## Opérations mathématiques sur les array"
   ],
   "metadata": {}
  },
  {
   "cell_type": "code",
   "execution_count": 2,
   "source": [
    "A = np.array([[1,0],[0,1]])\n",
    "B = np.array([[2,2],[2,2]])\n",
    "\n",
    "print(A,'\\n')\n",
    "print(B, '\\n')\n",
    "print(A + B,'\\n')\n",
    "print(A - B,'\\n')\n",
    "print(A * B,'\\n') # produit élément par élément\n",
    "print(A / B,'\\n') # division élément par élément\n",
    "print(A @ B,'\\n') # produit matriciel"
   ],
   "outputs": [
    {
     "output_type": "stream",
     "name": "stdout",
     "text": [
      "[[1 0]\n",
      " [0 1]] \n",
      "\n",
      "[[2 2]\n",
      " [2 2]] \n",
      "\n",
      "[[3 2]\n",
      " [2 3]] \n",
      "\n",
      "[[-1 -2]\n",
      " [-2 -1]] \n",
      "\n",
      "[[2 0]\n",
      " [0 2]] \n",
      "\n",
      "[[0.5 0. ]\n",
      " [0.  0.5]] \n",
      "\n",
      "[[2 2]\n",
      " [2 2]] \n",
      "\n"
     ]
    }
   ],
   "metadata": {}
  },
  {
   "cell_type": "markdown",
   "source": [
    "## Broadcasting\n",
    "\n",
    "Le broadcasting est un ensemble de régles qui décrivent comment des opérations binaires s'appliquent sur des array de format(shape) différents. Nous allons en donner une présentation assez brève et ce faisant moins détaillée que celles que vous trouverez [ici](https://jakevdp.github.io/PythonDataScienceHandbook/02.05-computation-on-arrays-broadcasting.html), et [ici](https://docs.scipy.org/doc/numpy-1.13.0/user/basics.broadcasting.html) notamment, et que nous reprenons partiellement dans ce qui suit.\n",
    "\n",
    "Pour commencer rappelons que sur des arrays de même format(soit avec le même nombre de dimensions, et même longueur pour chaque dimension) les opération binaires s'executent élément par élément. \n",
    "\n",
    "Illustrons cela par l'exemple suivant:\n"
   ],
   "metadata": {}
  },
  {
   "cell_type": "code",
   "execution_count": 7,
   "source": [
    "A = np.array([0, 1, 2])\n",
    "B = np.array([5, 5, 5])\n",
    "print(A, A.shape, '\\n')\n",
    "print(B, B.shape, '\\n')\n",
    "print(A + B, (A + B).shape, '\\n')"
   ],
   "outputs": [
    {
     "output_type": "stream",
     "name": "stdout",
     "text": [
      "[0 1 2] (3,) \n",
      "\n",
      "[5 5 5] (3,) \n",
      "\n",
      "[5 6 7] (3,) \n",
      "\n"
     ]
    }
   ],
   "metadata": {}
  },
  {
   "cell_type": "markdown",
   "source": [
    "A présent considérons la somme de l'array $A$ précédent et d'un scalaire, par exemple $5$, lequel peut être vu comme un array de dimension nulle:"
   ],
   "metadata": {}
  },
  {
   "cell_type": "code",
   "execution_count": 8,
   "source": [
    "print(A + 5, (A + 5).shape, '\\n')"
   ],
   "outputs": [
    {
     "output_type": "stream",
     "name": "stdout",
     "text": [
      "[5 6 7] (3,) \n",
      "\n"
     ]
    }
   ],
   "metadata": {}
  },
  {
   "cell_type": "markdown",
   "source": [
    "Cette opération donne le même résultat que celle précédente additionnant $A$ et $B$. Ceci laisse à penser qu'en executant $A + 5$ la valeur $5$ a été dupliquée pour produire l'array $[5, 5, 5]$ afin d'additionner des array de même format. Cependant cette opération de duplication n'est pas effectivement réalisée par numpy et est seulement employée ici pour une compréhension du broadcasting. Elle concerne aussi des arrays avec plus de dimensions que $A$. Par exemple:"
   ],
   "metadata": {}
  },
  {
   "cell_type": "code",
   "execution_count": 9,
   "source": [
    "M = np.ones((3, 3))\n",
    "print(M, M.shape, '\\n')\n",
    "print(M + A, (M + A).shape, '\\n')"
   ],
   "outputs": [
    {
     "output_type": "stream",
     "name": "stdout",
     "text": [
      "[[1. 1. 1.]\n",
      " [1. 1. 1.]\n",
      " [1. 1. 1.]] (3, 3) \n",
      "\n",
      "[[1. 2. 3.]\n",
      " [1. 2. 3.]\n",
      " [1. 2. 3.]] (3, 3) \n",
      "\n"
     ]
    }
   ],
   "metadata": {}
  },
  {
   "cell_type": "markdown",
   "source": [
    "En poursuivant l'explication du cas avec un scalaire, dans cet exemple l'array $A$ qui a une seule dimension est dupliqué de manière à avoir le même nombre de dimensions que $M$, soit 2, et le même nombre d'éléments. Ceci correspond à l'array:"
   ],
   "metadata": {}
  },
  {
   "cell_type": "code",
   "execution_count": 20,
   "source": [
    "A = np.full((3, 3), A)\n",
    "print(A , '\\n')\n",
    "print((M + A) , (M + A).shape, '\\n')"
   ],
   "outputs": [
    {
     "output_type": "stream",
     "name": "stdout",
     "text": [
      "[[0 1 2]\n",
      " [0 1 2]\n",
      " [0 1 2]] \n",
      "\n",
      "[[1. 2. 3.]\n",
      " [1. 2. 3.]\n",
      " [1. 2. 3.]] (3, 3) \n",
      "\n"
     ]
    }
   ],
   "metadata": {}
  },
  {
   "cell_type": "markdown",
   "source": [
    "Dans les exemples précédents, le broadcasting(la duplication) ne s'est appliqué que sur l'un des arrays impliqué dans l'opération considérée(l'addition), soit sur $5$ et $A$. Mais il peut aussi s'appliquer sur deux arrays, par exemple: "
   ],
   "metadata": {}
  },
  {
   "cell_type": "code",
   "execution_count": 3,
   "source": [
    "A = np.arange(3)\n",
    "B = np.arange(3)[:, np.newaxis]\n",
    "\n",
    "print(A, A.shape, \"\\n\")\n",
    "print(B, B.shape, \"\\n\")\n",
    "print(A + B, (A + B).shape, \"\\n\")"
   ],
   "outputs": [
    {
     "output_type": "stream",
     "name": "stdout",
     "text": [
      "[0 1 2] (3,) \n",
      "\n",
      "[[0]\n",
      " [1]\n",
      " [2]] (3, 1) \n",
      "\n",
      "[[0 1 2]\n",
      " [1 2 3]\n",
      " [2 3 4]] (3, 3) \n",
      "\n"
     ]
    }
   ],
   "metadata": {}
  },
  {
   "cell_type": "markdown",
   "source": [
    "Ici les deux arrays ont été dupliqués pour qu'ils aient un même format. Ainsi dans le cas de $A$ cela correspond à:"
   ],
   "metadata": {}
  },
  {
   "cell_type": "code",
   "execution_count": 4,
   "source": [
    "A = np.full((3, 3), A)\n",
    "print(A, A.shape, \"\\n\")"
   ],
   "outputs": [
    {
     "output_type": "stream",
     "name": "stdout",
     "text": [
      "[[0 1 2]\n",
      " [0 1 2]\n",
      " [0 1 2]] (3, 3) \n",
      "\n"
     ]
    }
   ],
   "metadata": {}
  },
  {
   "cell_type": "markdown",
   "source": [
    "et pour $B$:"
   ],
   "metadata": {}
  },
  {
   "cell_type": "code",
   "execution_count": 5,
   "source": [
    "B = np.full((3, 3), B)\n",
    "print(B, B.shape, \"\\n\")"
   ],
   "outputs": [
    {
     "output_type": "stream",
     "name": "stdout",
     "text": [
      "[[0 0 0]\n",
      " [1 1 1]\n",
      " [2 2 2]] (3, 3) \n",
      "\n"
     ]
    }
   ],
   "metadata": {}
  },
  {
   "cell_type": "markdown",
   "source": [
    "On vérifier qu'on obtient le même résultat:"
   ],
   "metadata": {}
  },
  {
   "cell_type": "code",
   "execution_count": 6,
   "source": [
    "print(A + B, (A + B).shape, \"\\n\")"
   ],
   "outputs": [
    {
     "output_type": "stream",
     "name": "stdout",
     "text": [
      "[[0 1 2]\n",
      " [1 2 3]\n",
      " [2 3 4]] (3, 3) \n",
      "\n"
     ]
    }
   ],
   "metadata": {}
  },
  {
   "cell_type": "markdown",
   "source": [
    "**Régles générales du broadcasting:** \n",
    "-"
   ],
   "metadata": {}
  },
  {
   "cell_type": "code",
   "execution_count": null,
   "source": [
    "A = np.full((3, 3), B)\n",
    "print(A, A.shape, \"\\n\")"
   ],
   "outputs": [],
   "metadata": {}
  },
  {
   "cell_type": "code",
   "execution_count": 13,
   "source": [
    "A = np.array([ [10, 20, 30], [40, 50, 60] ]) # shape = (2,3) \n",
    "B = np.array([1, 2, 3]) # shape = (3,) = (1,3)\n",
    "C = np.array([[1],[2]]) # shape = (2,1)\n",
    "\n",
    "\n",
    "print(A, A.shape, '\\n')\n",
    "print(B, B.shape, '\\n') \n",
    "print(C, C.shape, '\\n') \n",
    "\n",
    "print(A*B,'\\n') # chaque colonne est multiplié par B\n",
    "print(A*C,'\\n') # chaque colonne est multiplié par C"
   ],
   "outputs": [
    {
     "output_type": "stream",
     "name": "stdout",
     "text": [
      "[[10 20 30]\n",
      " [40 50 60]] (2, 3) \n",
      "\n",
      "[1 2 3] (3,) \n",
      "\n",
      "[[1]\n",
      " [2]] (2, 1) \n",
      "\n",
      "[[ 10  40  90]\n",
      " [ 40 100 180]] \n",
      "\n",
      "[[ 10  20  30]\n",
      " [ 80 100 120]] \n",
      "\n"
     ]
    }
   ],
   "metadata": {}
  },
  {
   "cell_type": "markdown",
   "source": [
    "**General rule du broadcasting**: Numpy arrays can be added/substracted/multiplied/divided if they in all dimensions have the same size or one of them has a size of one. If the numpy arrays differ in number of dimensions, this only has to be true for the (inner) dimensions they share.\n",
    "\n",
    "Dans le cas où le broadcasting est impossible on peut employer np.newaxis:"
   ],
   "metadata": {}
  },
  {
   "cell_type": "code",
   "execution_count": 14,
   "source": [
    "A = np.array([1, 2, 3]) # array 1D, shape = (3,)\n",
    "B = np.array([1,2]) # array 1D, shape = (2,)\n",
    "\n",
    "# On ne peut pas broadcaster B sur A, car aucun des deux n'a deux dimensions.\n",
    "# On utilise alors newaxis\n",
    "print(A[:,np.newaxis], A[:,np.newaxis].shape, '\\n') # Is now (3,1)\n",
    "print(B[np.newaxis,:], B[np.newaxis,:].shape, '\\n') # Is now (1,2)\n",
    "\n",
    "print(A[:,np.newaxis]*B[np.newaxis,:], '\\n') # A is column vector, B is row vector\n",
    "print(A[np.newaxis,:]*B[:,np.newaxis]) # A is row vector, B is column vector\n"
   ],
   "outputs": [
    {
     "output_type": "stream",
     "name": "stdout",
     "text": [
      "[[1]\n",
      " [2]\n",
      " [3]] (3, 1) \n",
      "\n",
      "[[1 2]] (1, 2) \n",
      "\n",
      "[[1 2]\n",
      " [2 4]\n",
      " [3 6]] \n",
      "\n",
      "[[1 2 3]\n",
      " [2 4 6]]\n"
     ]
    }
   ],
   "metadata": {}
  }
 ],
 "metadata": {
  "orig_nbformat": 4,
  "language_info": {
   "name": "python",
   "version": "3.8.8",
   "mimetype": "text/x-python",
   "codemirror_mode": {
    "name": "ipython",
    "version": 3
   },
   "pygments_lexer": "ipython3",
   "nbconvert_exporter": "python",
   "file_extension": ".py"
  },
  "kernelspec": {
   "name": "python3",
   "display_name": "Python 3.8.8 64-bit ('base': conda)"
  },
  "interpreter": {
   "hash": "6c5e886fea06f7140bdfeaacc5132f10f8431bb82bdf3f614d06b7f9c313022e"
  }
 },
 "nbformat": 4,
 "nbformat_minor": 2
}